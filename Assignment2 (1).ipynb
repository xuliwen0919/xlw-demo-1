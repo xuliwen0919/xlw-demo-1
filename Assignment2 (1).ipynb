{
 "cells": [
  {
   "cell_type": "code",
   "execution_count": 1,
   "metadata": {},
   "outputs": [
    {
     "name": "stdout",
     "output_type": "stream",
     "text": [
      "   AccusedRef  FirstName    LastName     Sex  Age  TrialType\n",
      "0    A/EGD/10     Mareon     Quheitt  Female  NaN        2.0\n",
      "1   A/EGD/100       Thom    Cockburn    Male  NaN        2.0\n",
      "2  A/EGD/1000  Christian  Aitkenhead  Female  NaN        2.0\n",
      "3  A/EGD/1001      Janet     Ireland  Female  NaN        2.0\n",
      "4  A/EGD/1002      Agnes  Hendersoun  Female  NaN        2.0\n",
      "(3219, 6)\n"
     ]
    }
   ],
   "source": [
    "import pandas as pd\n",
    "data = pd.read_csv(\"witchcraft.csv\")\n",
    "print(data.head())\n",
    "print(data.shape)"
   ]
  },
  {
   "cell_type": "markdown",
   "metadata": {},
   "source": [
    "Clean the data. "
   ]
  },
  {
   "cell_type": "code",
   "execution_count": 2,
   "metadata": {},
   "outputs": [],
   "source": [
    "# More cleaning code goes in here\n",
    "data.replace(\"Lady\",\"Female\",inplace=True)\n",
    "data.replace(\"Man\",\"Male\",inplace=True)\n",
    "\n"
   ]
  },
  {
   "cell_type": "code",
   "execution_count": 3,
   "metadata": {},
   "outputs": [
    {
     "data": {
      "text/plain": [
       "2"
      ]
     },
     "execution_count": 3,
     "metadata": {},
     "output_type": "execute_result"
    }
   ],
   "source": [
    "data.describe(include=\"all\")\n",
    "data['Sex'].value_counts().size"
   ]
  },
  {
   "cell_type": "markdown",
   "metadata": {},
   "source": [
    "How many rows are in the dataset after cleaning?"
   ]
  },
  {
   "cell_type": "code",
   "execution_count": 4,
   "metadata": {},
   "outputs": [
    {
     "data": {
      "text/plain": [
       "3219"
      ]
     },
     "execution_count": 4,
     "metadata": {},
     "output_type": "execute_result"
    }
   ],
   "source": [
    "data.shape[0] # We chould see how many persons are accused in Scotland."
   ]
  },
  {
   "cell_type": "markdown",
   "metadata": {},
   "source": [
    "How many accused persons are males, and how many are females?"
   ]
  },
  {
   "cell_type": "code",
   "execution_count": 5,
   "metadata": {},
   "outputs": [
    {
     "data": {
      "text/plain": [
       "Female    2702\n",
       "Male       468\n",
       "Name: Sex, dtype: int64"
      ]
     },
     "execution_count": 5,
     "metadata": {},
     "output_type": "execute_result"
    }
   ],
   "source": [
    "data['Sex'].value_counts()"
   ]
  },
  {
   "cell_type": "markdown",
   "metadata": {},
   "source": [
    "How old are these accused persons ?"
   ]
  },
  {
   "cell_type": "code",
   "execution_count": 6,
   "metadata": {},
   "outputs": [
    {
     "data": {
      "text/plain": [
       "50.0     36\n",
       "45.0     12\n",
       "25.0      7\n",
       "55.0      7\n",
       "39.0      6\n",
       "60.0      6\n",
       "36.0      5\n",
       "30.0      5\n",
       "43.0      5\n",
       "41.0      5\n",
       "35.0      4\n",
       "37.0      4\n",
       "32.0      4\n",
       "40.0      4\n",
       "14.0      3\n",
       "47.0      3\n",
       "31.0      3\n",
       "34.0      3\n",
       "53.0      3\n",
       "48.0      2\n",
       "49.0      2\n",
       "29.0      2\n",
       "56.0      2\n",
       "16.0      2\n",
       "75.0      2\n",
       "28.0      2\n",
       "33.0      2\n",
       "63.0      2\n",
       "15.0      2\n",
       "51.0      2\n",
       "27.0      2\n",
       "44.0      1\n",
       "57.0      1\n",
       "42.0      1\n",
       "64.0      1\n",
       "70.0      1\n",
       "38.0      1\n",
       "61.0      1\n",
       "12.0      1\n",
       "65.0      1\n",
       "23.0      1\n",
       "17.0      1\n",
       "9.0       1\n",
       "84.0      1\n",
       "100.0     1\n",
       "10.0      1\n",
       "80.0      1\n",
       "46.0      1\n",
       "Name: Age, dtype: int64"
      ]
     },
     "execution_count": 6,
     "metadata": {},
     "output_type": "execute_result"
    }
   ],
   "source": [
    "data['Age'].value_counts()"
   ]
  },
  {
   "cell_type": "markdown",
   "metadata": {},
   "source": [
    "How old is the oldest accused person and youngest person ?"
   ]
  },
  {
   "cell_type": "code",
   "execution_count": 7,
   "metadata": {},
   "outputs": [
    {
     "data": {
      "text/plain": [
       "100.0"
      ]
     },
     "execution_count": 7,
     "metadata": {},
     "output_type": "execute_result"
    }
   ],
   "source": [
    "data['Age'].max()"
   ]
  },
  {
   "cell_type": "code",
   "execution_count": 8,
   "metadata": {},
   "outputs": [
    {
     "data": {
      "text/plain": [
       "9.0"
      ]
     },
     "execution_count": 8,
     "metadata": {},
     "output_type": "execute_result"
    }
   ],
   "source": [
    "data['Age'].min()"
   ]
  },
  {
   "cell_type": "markdown",
   "metadata": {},
   "source": [
    "Select persons who are punished by 2.0 trialtype."
   ]
  },
  {
   "cell_type": "code",
   "execution_count": 9,
   "metadata": {},
   "outputs": [
    {
     "data": {
      "text/html": [
       "<div>\n",
       "<style scoped>\n",
       "    .dataframe tbody tr th:only-of-type {\n",
       "        vertical-align: middle;\n",
       "    }\n",
       "\n",
       "    .dataframe tbody tr th {\n",
       "        vertical-align: top;\n",
       "    }\n",
       "\n",
       "    .dataframe thead th {\n",
       "        text-align: right;\n",
       "    }\n",
       "</style>\n",
       "<table border=\"1\" class=\"dataframe\">\n",
       "  <thead>\n",
       "    <tr style=\"text-align: right;\">\n",
       "      <th></th>\n",
       "      <th>AccusedRef</th>\n",
       "      <th>FirstName</th>\n",
       "      <th>LastName</th>\n",
       "      <th>Sex</th>\n",
       "      <th>Age</th>\n",
       "      <th>TrialType</th>\n",
       "    </tr>\n",
       "  </thead>\n",
       "  <tbody>\n",
       "    <tr>\n",
       "      <th>0</th>\n",
       "      <td>A/EGD/10</td>\n",
       "      <td>Mareon</td>\n",
       "      <td>Quheitt</td>\n",
       "      <td>Female</td>\n",
       "      <td>NaN</td>\n",
       "      <td>2.0</td>\n",
       "    </tr>\n",
       "    <tr>\n",
       "      <th>1</th>\n",
       "      <td>A/EGD/100</td>\n",
       "      <td>Thom</td>\n",
       "      <td>Cockburn</td>\n",
       "      <td>Male</td>\n",
       "      <td>NaN</td>\n",
       "      <td>2.0</td>\n",
       "    </tr>\n",
       "    <tr>\n",
       "      <th>2</th>\n",
       "      <td>A/EGD/1000</td>\n",
       "      <td>Christian</td>\n",
       "      <td>Aitkenhead</td>\n",
       "      <td>Female</td>\n",
       "      <td>NaN</td>\n",
       "      <td>2.0</td>\n",
       "    </tr>\n",
       "    <tr>\n",
       "      <th>3</th>\n",
       "      <td>A/EGD/1001</td>\n",
       "      <td>Janet</td>\n",
       "      <td>Ireland</td>\n",
       "      <td>Female</td>\n",
       "      <td>NaN</td>\n",
       "      <td>2.0</td>\n",
       "    </tr>\n",
       "    <tr>\n",
       "      <th>4</th>\n",
       "      <td>A/EGD/1002</td>\n",
       "      <td>Agnes</td>\n",
       "      <td>Hendersoun</td>\n",
       "      <td>Female</td>\n",
       "      <td>NaN</td>\n",
       "      <td>2.0</td>\n",
       "    </tr>\n",
       "    <tr>\n",
       "      <th>5</th>\n",
       "      <td>A/EGD/1003</td>\n",
       "      <td>Margaret</td>\n",
       "      <td>Young</td>\n",
       "      <td>Female</td>\n",
       "      <td>NaN</td>\n",
       "      <td>2.0</td>\n",
       "    </tr>\n",
       "    <tr>\n",
       "      <th>6</th>\n",
       "      <td>A/EGD/1004</td>\n",
       "      <td>Margaret</td>\n",
       "      <td>Ridpeth</td>\n",
       "      <td>Female</td>\n",
       "      <td>NaN</td>\n",
       "      <td>2.0</td>\n",
       "    </tr>\n",
       "    <tr>\n",
       "      <th>7</th>\n",
       "      <td>A/EGD/1005</td>\n",
       "      <td>Janet</td>\n",
       "      <td>Reid</td>\n",
       "      <td>Female</td>\n",
       "      <td>50.0</td>\n",
       "      <td>2.0</td>\n",
       "    </tr>\n",
       "    <tr>\n",
       "      <th>8</th>\n",
       "      <td>A/EGD/1006</td>\n",
       "      <td>Agnes</td>\n",
       "      <td>Rankein</td>\n",
       "      <td>Female</td>\n",
       "      <td>NaN</td>\n",
       "      <td>2.0</td>\n",
       "    </tr>\n",
       "    <tr>\n",
       "      <th>9</th>\n",
       "      <td>A/EGD/1007</td>\n",
       "      <td>Marion</td>\n",
       "      <td>Mitchell</td>\n",
       "      <td>Female</td>\n",
       "      <td>NaN</td>\n",
       "      <td>2.0</td>\n",
       "    </tr>\n",
       "    <tr>\n",
       "      <th>10</th>\n",
       "      <td>A/EGD/1008</td>\n",
       "      <td>Agnes</td>\n",
       "      <td>Liddell</td>\n",
       "      <td>Female</td>\n",
       "      <td>NaN</td>\n",
       "      <td>2.0</td>\n",
       "    </tr>\n",
       "    <tr>\n",
       "      <th>11</th>\n",
       "      <td>A/EGD/1009</td>\n",
       "      <td>Margaret</td>\n",
       "      <td>Oliver</td>\n",
       "      <td>Female</td>\n",
       "      <td>NaN</td>\n",
       "      <td>2.0</td>\n",
       "    </tr>\n",
       "    <tr>\n",
       "      <th>13</th>\n",
       "      <td>A/EGD/1011</td>\n",
       "      <td>Bessie</td>\n",
       "      <td>Riddell</td>\n",
       "      <td>Female</td>\n",
       "      <td>NaN</td>\n",
       "      <td>2.0</td>\n",
       "    </tr>\n",
       "    <tr>\n",
       "      <th>14</th>\n",
       "      <td>A/EGD/1012</td>\n",
       "      <td>Agnes</td>\n",
       "      <td>Dempstar</td>\n",
       "      <td>Female</td>\n",
       "      <td>NaN</td>\n",
       "      <td>2.0</td>\n",
       "    </tr>\n",
       "    <tr>\n",
       "      <th>15</th>\n",
       "      <td>A/EGD/1014</td>\n",
       "      <td>Bessie</td>\n",
       "      <td>Wright</td>\n",
       "      <td>Female</td>\n",
       "      <td>42.0</td>\n",
       "      <td>2.0</td>\n",
       "    </tr>\n",
       "    <tr>\n",
       "      <th>16</th>\n",
       "      <td>A/EGD/1015</td>\n",
       "      <td>Janet</td>\n",
       "      <td>Strauchane</td>\n",
       "      <td>Female</td>\n",
       "      <td>NaN</td>\n",
       "      <td>2.0</td>\n",
       "    </tr>\n",
       "    <tr>\n",
       "      <th>17</th>\n",
       "      <td>A/EGD/1016</td>\n",
       "      <td>William</td>\n",
       "      <td>Davidson</td>\n",
       "      <td>Male</td>\n",
       "      <td>NaN</td>\n",
       "      <td>2.0</td>\n",
       "    </tr>\n",
       "    <tr>\n",
       "      <th>18</th>\n",
       "      <td>A/EGD/1017</td>\n",
       "      <td>Beatrix</td>\n",
       "      <td>Cuthbertson</td>\n",
       "      <td>Female</td>\n",
       "      <td>NaN</td>\n",
       "      <td>2.0</td>\n",
       "    </tr>\n",
       "    <tr>\n",
       "      <th>19</th>\n",
       "      <td>A/EGD/1018</td>\n",
       "      <td>Janet</td>\n",
       "      <td>Wright</td>\n",
       "      <td>Female</td>\n",
       "      <td>43.0</td>\n",
       "      <td>2.0</td>\n",
       "    </tr>\n",
       "    <tr>\n",
       "      <th>20</th>\n",
       "      <td>A/EGD/1019</td>\n",
       "      <td>Margaret</td>\n",
       "      <td>Barrowman</td>\n",
       "      <td>Female</td>\n",
       "      <td>NaN</td>\n",
       "      <td>2.0</td>\n",
       "    </tr>\n",
       "    <tr>\n",
       "      <th>21</th>\n",
       "      <td>A/EGD/102</td>\n",
       "      <td>Niniane</td>\n",
       "      <td>Chirneyside</td>\n",
       "      <td>Male</td>\n",
       "      <td>NaN</td>\n",
       "      <td>2.0</td>\n",
       "    </tr>\n",
       "    <tr>\n",
       "      <th>22</th>\n",
       "      <td>A/EGD/1020</td>\n",
       "      <td>Elspitt</td>\n",
       "      <td>Duncan</td>\n",
       "      <td>Female</td>\n",
       "      <td>NaN</td>\n",
       "      <td>2.0</td>\n",
       "    </tr>\n",
       "    <tr>\n",
       "      <th>23</th>\n",
       "      <td>A/EGD/1021</td>\n",
       "      <td>Marioun</td>\n",
       "      <td>Scheirar</td>\n",
       "      <td>Female</td>\n",
       "      <td>NaN</td>\n",
       "      <td>2.0</td>\n",
       "    </tr>\n",
       "    <tr>\n",
       "      <th>24</th>\n",
       "      <td>A/EGD/1022</td>\n",
       "      <td>Janet</td>\n",
       "      <td>Smiberd</td>\n",
       "      <td>Female</td>\n",
       "      <td>25.0</td>\n",
       "      <td>2.0</td>\n",
       "    </tr>\n",
       "    <tr>\n",
       "      <th>25</th>\n",
       "      <td>A/EGD/1023</td>\n",
       "      <td>Janet</td>\n",
       "      <td>Unes</td>\n",
       "      <td>Female</td>\n",
       "      <td>50.0</td>\n",
       "      <td>2.0</td>\n",
       "    </tr>\n",
       "    <tr>\n",
       "      <th>26</th>\n",
       "      <td>A/EGD/1024</td>\n",
       "      <td>Alesoun</td>\n",
       "      <td>Chapman</td>\n",
       "      <td>Female</td>\n",
       "      <td>NaN</td>\n",
       "      <td>2.0</td>\n",
       "    </tr>\n",
       "    <tr>\n",
       "      <th>27</th>\n",
       "      <td>A/EGD/1025</td>\n",
       "      <td>Christian</td>\n",
       "      <td>Tailyour</td>\n",
       "      <td>Female</td>\n",
       "      <td>NaN</td>\n",
       "      <td>2.0</td>\n",
       "    </tr>\n",
       "    <tr>\n",
       "      <th>28</th>\n",
       "      <td>A/EGD/1026</td>\n",
       "      <td>Issobell</td>\n",
       "      <td>Thomsoun</td>\n",
       "      <td>Female</td>\n",
       "      <td>NaN</td>\n",
       "      <td>2.0</td>\n",
       "    </tr>\n",
       "    <tr>\n",
       "      <th>29</th>\n",
       "      <td>A/EGD/1027</td>\n",
       "      <td>Elspitt</td>\n",
       "      <td>Hislop</td>\n",
       "      <td>Female</td>\n",
       "      <td>NaN</td>\n",
       "      <td>2.0</td>\n",
       "    </tr>\n",
       "    <tr>\n",
       "      <th>30</th>\n",
       "      <td>A/EGD/1028</td>\n",
       "      <td>Janet</td>\n",
       "      <td>Darling</td>\n",
       "      <td>Female</td>\n",
       "      <td>NaN</td>\n",
       "      <td>2.0</td>\n",
       "    </tr>\n",
       "    <tr>\n",
       "      <th>...</th>\n",
       "      <td>...</td>\n",
       "      <td>...</td>\n",
       "      <td>...</td>\n",
       "      <td>...</td>\n",
       "      <td>...</td>\n",
       "      <td>...</td>\n",
       "    </tr>\n",
       "    <tr>\n",
       "      <th>3007</th>\n",
       "      <td>A/LA/2967</td>\n",
       "      <td>Euphame</td>\n",
       "      <td>Henderson</td>\n",
       "      <td>Female</td>\n",
       "      <td>NaN</td>\n",
       "      <td>2.0</td>\n",
       "    </tr>\n",
       "    <tr>\n",
       "      <th>3008</th>\n",
       "      <td>A/LA/2968</td>\n",
       "      <td>Agnes</td>\n",
       "      <td>Mertene</td>\n",
       "      <td>Female</td>\n",
       "      <td>NaN</td>\n",
       "      <td>2.0</td>\n",
       "    </tr>\n",
       "    <tr>\n",
       "      <th>3009</th>\n",
       "      <td>A/LA/2969</td>\n",
       "      <td>Bessie</td>\n",
       "      <td>Smith</td>\n",
       "      <td>Female</td>\n",
       "      <td>NaN</td>\n",
       "      <td>2.0</td>\n",
       "    </tr>\n",
       "    <tr>\n",
       "      <th>3010</th>\n",
       "      <td>A/LA/2970</td>\n",
       "      <td>Marie</td>\n",
       "      <td>Dick</td>\n",
       "      <td>Female</td>\n",
       "      <td>NaN</td>\n",
       "      <td>2.0</td>\n",
       "    </tr>\n",
       "    <tr>\n",
       "      <th>3011</th>\n",
       "      <td>A/LA/2971</td>\n",
       "      <td>Margaret</td>\n",
       "      <td>Gray</td>\n",
       "      <td>Female</td>\n",
       "      <td>NaN</td>\n",
       "      <td>2.0</td>\n",
       "    </tr>\n",
       "    <tr>\n",
       "      <th>3012</th>\n",
       "      <td>A/LA/2972</td>\n",
       "      <td>Margaret</td>\n",
       "      <td>Lummisdane</td>\n",
       "      <td>Female</td>\n",
       "      <td>NaN</td>\n",
       "      <td>2.0</td>\n",
       "    </tr>\n",
       "    <tr>\n",
       "      <th>3013</th>\n",
       "      <td>A/LA/2973</td>\n",
       "      <td>Issobell</td>\n",
       "      <td>Chrystie</td>\n",
       "      <td>Female</td>\n",
       "      <td>NaN</td>\n",
       "      <td>2.0</td>\n",
       "    </tr>\n",
       "    <tr>\n",
       "      <th>3014</th>\n",
       "      <td>A/LA/2974</td>\n",
       "      <td>Marie</td>\n",
       "      <td>Broun</td>\n",
       "      <td>Female</td>\n",
       "      <td>NaN</td>\n",
       "      <td>2.0</td>\n",
       "    </tr>\n",
       "    <tr>\n",
       "      <th>3015</th>\n",
       "      <td>A/LA/2975</td>\n",
       "      <td>Helen</td>\n",
       "      <td>Wood</td>\n",
       "      <td>Female</td>\n",
       "      <td>NaN</td>\n",
       "      <td>2.0</td>\n",
       "    </tr>\n",
       "    <tr>\n",
       "      <th>3016</th>\n",
       "      <td>A/LA/2976</td>\n",
       "      <td>Jonet</td>\n",
       "      <td>Inglyses</td>\n",
       "      <td>Female</td>\n",
       "      <td>NaN</td>\n",
       "      <td>2.0</td>\n",
       "    </tr>\n",
       "    <tr>\n",
       "      <th>3017</th>\n",
       "      <td>A/LA/2977</td>\n",
       "      <td>Jonet</td>\n",
       "      <td>Lummisdane</td>\n",
       "      <td>Female</td>\n",
       "      <td>NaN</td>\n",
       "      <td>2.0</td>\n",
       "    </tr>\n",
       "    <tr>\n",
       "      <th>3018</th>\n",
       "      <td>A/LA/2978</td>\n",
       "      <td>Issobell</td>\n",
       "      <td>Oster</td>\n",
       "      <td>Female</td>\n",
       "      <td>NaN</td>\n",
       "      <td>2.0</td>\n",
       "    </tr>\n",
       "    <tr>\n",
       "      <th>3019</th>\n",
       "      <td>A/LA/2979</td>\n",
       "      <td>Beatrix</td>\n",
       "      <td>Dolt</td>\n",
       "      <td>Female</td>\n",
       "      <td>NaN</td>\n",
       "      <td>2.0</td>\n",
       "    </tr>\n",
       "    <tr>\n",
       "      <th>3020</th>\n",
       "      <td>A/LA/2980</td>\n",
       "      <td>Agnes</td>\n",
       "      <td>Affleck</td>\n",
       "      <td>Female</td>\n",
       "      <td>NaN</td>\n",
       "      <td>2.0</td>\n",
       "    </tr>\n",
       "    <tr>\n",
       "      <th>3021</th>\n",
       "      <td>A/LA/2981</td>\n",
       "      <td>Issobell</td>\n",
       "      <td>Paickok</td>\n",
       "      <td>Female</td>\n",
       "      <td>NaN</td>\n",
       "      <td>2.0</td>\n",
       "    </tr>\n",
       "    <tr>\n",
       "      <th>3022</th>\n",
       "      <td>A/LA/2982</td>\n",
       "      <td>Katharine</td>\n",
       "      <td>Thomson</td>\n",
       "      <td>Female</td>\n",
       "      <td>NaN</td>\n",
       "      <td>2.0</td>\n",
       "    </tr>\n",
       "    <tr>\n",
       "      <th>3023</th>\n",
       "      <td>A/LA/2984</td>\n",
       "      <td>Bessie</td>\n",
       "      <td>Boyd</td>\n",
       "      <td>Female</td>\n",
       "      <td>NaN</td>\n",
       "      <td>2.0</td>\n",
       "    </tr>\n",
       "    <tr>\n",
       "      <th>3024</th>\n",
       "      <td>A/LA/2985</td>\n",
       "      <td>Elizabeth</td>\n",
       "      <td>Spae Wife</td>\n",
       "      <td>Female</td>\n",
       "      <td>NaN</td>\n",
       "      <td>2.0</td>\n",
       "    </tr>\n",
       "    <tr>\n",
       "      <th>3025</th>\n",
       "      <td>A/LA/2986</td>\n",
       "      <td>Issobell</td>\n",
       "      <td>Beir</td>\n",
       "      <td>Female</td>\n",
       "      <td>NaN</td>\n",
       "      <td>2.0</td>\n",
       "    </tr>\n",
       "    <tr>\n",
       "      <th>3026</th>\n",
       "      <td>A/LA/2987</td>\n",
       "      <td>Robert</td>\n",
       "      <td>Short</td>\n",
       "      <td>Male</td>\n",
       "      <td>NaN</td>\n",
       "      <td>2.0</td>\n",
       "    </tr>\n",
       "    <tr>\n",
       "      <th>3027</th>\n",
       "      <td>A/LA/2989</td>\n",
       "      <td>John</td>\n",
       "      <td>Mylne</td>\n",
       "      <td>Female</td>\n",
       "      <td>NaN</td>\n",
       "      <td>2.0</td>\n",
       "    </tr>\n",
       "    <tr>\n",
       "      <th>3028</th>\n",
       "      <td>A/LA/2990</td>\n",
       "      <td>Christian</td>\n",
       "      <td>Sinclair</td>\n",
       "      <td>Female</td>\n",
       "      <td>NaN</td>\n",
       "      <td>2.0</td>\n",
       "    </tr>\n",
       "    <tr>\n",
       "      <th>3037</th>\n",
       "      <td>A/LA/2999</td>\n",
       "      <td>Elizabeth</td>\n",
       "      <td>Findlaw</td>\n",
       "      <td>Female</td>\n",
       "      <td>NaN</td>\n",
       "      <td>2.0</td>\n",
       "    </tr>\n",
       "    <tr>\n",
       "      <th>3039</th>\n",
       "      <td>A/LA/3001</td>\n",
       "      <td>Jonet</td>\n",
       "      <td>Kennedy</td>\n",
       "      <td>Female</td>\n",
       "      <td>NaN</td>\n",
       "      <td>2.0</td>\n",
       "    </tr>\n",
       "    <tr>\n",
       "      <th>3040</th>\n",
       "      <td>A/LA/3002</td>\n",
       "      <td>wife of George</td>\n",
       "      <td>Mot</td>\n",
       "      <td>Female</td>\n",
       "      <td>NaN</td>\n",
       "      <td>2.0</td>\n",
       "    </tr>\n",
       "    <tr>\n",
       "      <th>3067</th>\n",
       "      <td>A/LA/3042</td>\n",
       "      <td>Jean</td>\n",
       "      <td>Hamilton</td>\n",
       "      <td>Female</td>\n",
       "      <td>NaN</td>\n",
       "      <td>2.0</td>\n",
       "    </tr>\n",
       "    <tr>\n",
       "      <th>3087</th>\n",
       "      <td>A/LA/3062</td>\n",
       "      <td>Isobel</td>\n",
       "      <td>Hutchison</td>\n",
       "      <td>Female</td>\n",
       "      <td>NaN</td>\n",
       "      <td>2.0</td>\n",
       "    </tr>\n",
       "    <tr>\n",
       "      <th>3106</th>\n",
       "      <td>A/LA/3082</td>\n",
       "      <td>Margaret</td>\n",
       "      <td>Hasbein</td>\n",
       "      <td>Female</td>\n",
       "      <td>NaN</td>\n",
       "      <td>2.0</td>\n",
       "    </tr>\n",
       "    <tr>\n",
       "      <th>3112</th>\n",
       "      <td>A/LA/3088</td>\n",
       "      <td>Marie</td>\n",
       "      <td>McGillimichell</td>\n",
       "      <td>Female</td>\n",
       "      <td>NaN</td>\n",
       "      <td>2.0</td>\n",
       "    </tr>\n",
       "    <tr>\n",
       "      <th>3210</th>\n",
       "      <td>A/LA/3236</td>\n",
       "      <td>Cristeane</td>\n",
       "      <td>Incheot</td>\n",
       "      <td>Female</td>\n",
       "      <td>NaN</td>\n",
       "      <td>2.0</td>\n",
       "    </tr>\n",
       "  </tbody>\n",
       "</table>\n",
       "<p>1936 rows × 6 columns</p>\n",
       "</div>"
      ],
      "text/plain": [
       "      AccusedRef       FirstName        LastName     Sex   Age  TrialType\n",
       "0       A/EGD/10          Mareon         Quheitt  Female   NaN        2.0\n",
       "1      A/EGD/100            Thom        Cockburn    Male   NaN        2.0\n",
       "2     A/EGD/1000       Christian      Aitkenhead  Female   NaN        2.0\n",
       "3     A/EGD/1001           Janet         Ireland  Female   NaN        2.0\n",
       "4     A/EGD/1002           Agnes      Hendersoun  Female   NaN        2.0\n",
       "5     A/EGD/1003        Margaret           Young  Female   NaN        2.0\n",
       "6     A/EGD/1004        Margaret         Ridpeth  Female   NaN        2.0\n",
       "7     A/EGD/1005           Janet            Reid  Female  50.0        2.0\n",
       "8     A/EGD/1006           Agnes         Rankein  Female   NaN        2.0\n",
       "9     A/EGD/1007          Marion        Mitchell  Female   NaN        2.0\n",
       "10    A/EGD/1008           Agnes         Liddell  Female   NaN        2.0\n",
       "11    A/EGD/1009        Margaret          Oliver  Female   NaN        2.0\n",
       "13    A/EGD/1011          Bessie         Riddell  Female   NaN        2.0\n",
       "14    A/EGD/1012           Agnes        Dempstar  Female   NaN        2.0\n",
       "15    A/EGD/1014          Bessie          Wright  Female  42.0        2.0\n",
       "16    A/EGD/1015           Janet      Strauchane  Female   NaN        2.0\n",
       "17    A/EGD/1016         William        Davidson    Male   NaN        2.0\n",
       "18    A/EGD/1017         Beatrix     Cuthbertson  Female   NaN        2.0\n",
       "19    A/EGD/1018           Janet          Wright  Female  43.0        2.0\n",
       "20    A/EGD/1019        Margaret       Barrowman  Female   NaN        2.0\n",
       "21     A/EGD/102         Niniane     Chirneyside    Male   NaN        2.0\n",
       "22    A/EGD/1020         Elspitt          Duncan  Female   NaN        2.0\n",
       "23    A/EGD/1021         Marioun        Scheirar  Female   NaN        2.0\n",
       "24    A/EGD/1022           Janet         Smiberd  Female  25.0        2.0\n",
       "25    A/EGD/1023           Janet            Unes  Female  50.0        2.0\n",
       "26    A/EGD/1024         Alesoun         Chapman  Female   NaN        2.0\n",
       "27    A/EGD/1025       Christian        Tailyour  Female   NaN        2.0\n",
       "28    A/EGD/1026        Issobell        Thomsoun  Female   NaN        2.0\n",
       "29    A/EGD/1027         Elspitt          Hislop  Female   NaN        2.0\n",
       "30    A/EGD/1028           Janet         Darling  Female   NaN        2.0\n",
       "...          ...             ...             ...     ...   ...        ...\n",
       "3007   A/LA/2967         Euphame       Henderson  Female   NaN        2.0\n",
       "3008   A/LA/2968           Agnes         Mertene  Female   NaN        2.0\n",
       "3009   A/LA/2969          Bessie           Smith  Female   NaN        2.0\n",
       "3010   A/LA/2970           Marie            Dick  Female   NaN        2.0\n",
       "3011   A/LA/2971        Margaret            Gray  Female   NaN        2.0\n",
       "3012   A/LA/2972        Margaret      Lummisdane  Female   NaN        2.0\n",
       "3013   A/LA/2973        Issobell        Chrystie  Female   NaN        2.0\n",
       "3014   A/LA/2974           Marie           Broun  Female   NaN        2.0\n",
       "3015   A/LA/2975           Helen            Wood  Female   NaN        2.0\n",
       "3016   A/LA/2976           Jonet        Inglyses  Female   NaN        2.0\n",
       "3017   A/LA/2977           Jonet      Lummisdane  Female   NaN        2.0\n",
       "3018   A/LA/2978        Issobell           Oster  Female   NaN        2.0\n",
       "3019   A/LA/2979         Beatrix            Dolt  Female   NaN        2.0\n",
       "3020   A/LA/2980           Agnes         Affleck  Female   NaN        2.0\n",
       "3021   A/LA/2981        Issobell         Paickok  Female   NaN        2.0\n",
       "3022   A/LA/2982       Katharine         Thomson  Female   NaN        2.0\n",
       "3023   A/LA/2984          Bessie            Boyd  Female   NaN        2.0\n",
       "3024   A/LA/2985       Elizabeth       Spae Wife  Female   NaN        2.0\n",
       "3025   A/LA/2986        Issobell            Beir  Female   NaN        2.0\n",
       "3026   A/LA/2987          Robert           Short    Male   NaN        2.0\n",
       "3027   A/LA/2989            John           Mylne  Female   NaN        2.0\n",
       "3028   A/LA/2990       Christian        Sinclair  Female   NaN        2.0\n",
       "3037   A/LA/2999       Elizabeth         Findlaw  Female   NaN        2.0\n",
       "3039   A/LA/3001           Jonet         Kennedy  Female   NaN        2.0\n",
       "3040   A/LA/3002  wife of George             Mot  Female   NaN        2.0\n",
       "3067   A/LA/3042            Jean        Hamilton  Female   NaN        2.0\n",
       "3087   A/LA/3062          Isobel       Hutchison  Female   NaN        2.0\n",
       "3106   A/LA/3082        Margaret         Hasbein  Female   NaN        2.0\n",
       "3112   A/LA/3088           Marie  McGillimichell  Female   NaN        2.0\n",
       "3210   A/LA/3236       Cristeane         Incheot  Female   NaN        2.0\n",
       "\n",
       "[1936 rows x 6 columns]"
      ]
     },
     "execution_count": 9,
     "metadata": {},
     "output_type": "execute_result"
    }
   ],
   "source": [
    "data.loc[data['TrialType'] == 2.0]"
   ]
  },
  {
   "cell_type": "markdown",
   "metadata": {},
   "source": [
    "What kind of the trial was the oldest person given?"
   ]
  },
  {
   "cell_type": "code",
   "execution_count": 10,
   "metadata": {},
   "outputs": [
    {
     "data": {
      "text/plain": [
       "2.0"
      ]
     },
     "execution_count": 10,
     "metadata": {},
     "output_type": "execute_result"
    }
   ],
   "source": [
    "data.iloc[data['Age'].idxmax()]['TrialType']\n"
   ]
  },
  {
   "cell_type": "markdown",
   "metadata": {},
   "source": [
    "What kind of the trial was the youngest person given?"
   ]
  },
  {
   "cell_type": "code",
   "execution_count": 11,
   "metadata": {},
   "outputs": [
    {
     "data": {
      "text/plain": [
       "4.0"
      ]
     },
     "execution_count": 11,
     "metadata": {},
     "output_type": "execute_result"
    }
   ],
   "source": [
    "data.iloc[data['Age'].idxmin()]['TrialType']"
   ]
  },
  {
   "cell_type": "markdown",
   "metadata": {},
   "source": [
    "What is the distribution of age of accused people ?"
   ]
  },
  {
   "cell_type": "code",
   "execution_count": 12,
   "metadata": {},
   "outputs": [],
   "source": [
    "#select people who have a record of age\n",
    "age = data.loc[data['Age'] > 0 & (data['Age'] < 150) ]"
   ]
  },
  {
   "cell_type": "code",
   "execution_count": 13,
   "metadata": {},
   "outputs": [
    {
     "data": {
      "text/plain": [
       "<matplotlib.axes._subplots.AxesSubplot at 0x7fe17ceecf28>"
      ]
     },
     "execution_count": 13,
     "metadata": {},
     "output_type": "execute_result"
    },
    {
     "data": {
      "image/png": "[encoded data removed]",
      "text/plain": [
       "<Figure size 432x288 with 1 Axes>"
      ]
     },
     "metadata": {},
     "output_type": "display_data"
    }
   ],
   "source": [
    "%matplotlib inline\n",
    "import numpy as np\n",
    "import seaborn as sns\n",
    "import matplotlib.pyplot as plt\n",
    "\n",
    "sns.distplot(age['Age'],label=\"age\")"
   ]
  },
  {
   "cell_type": "markdown",
   "metadata": {},
   "source": [
    "What is the distribution of trialtype that accused people was given ?"
   ]
  },
  {
   "cell_type": "code",
   "execution_count": 14,
   "metadata": {},
   "outputs": [],
   "source": [
    "trialtype = data.loc[data['TrialType'] > 0 & (data['TrialType'] < 10) ]"
   ]
  },
  {
   "cell_type": "code",
   "execution_count": 15,
   "metadata": {},
   "outputs": [
    {
     "data": {
      "text/plain": [
       "<matplotlib.axes._subplots.AxesSubplot at 0x7fe17a94cf28>"
      ]
     },
     "execution_count": 15,
     "metadata": {},
     "output_type": "execute_result"
    },
    {
     "data": {
      "image/png": "[encoded data removed]",
      "text/plain": [
       "<Figure size 432x288 with 1 Axes>"
      ]
     },
     "metadata": {},
     "output_type": "display_data"
    }
   ],
   "source": [
    "sns.distplot(trialtype['TrialType'])"
   ]
  },
  {
   "cell_type": "markdown",
   "metadata": {},
   "source": [
    "Does the trialtype relate to the age?"
   ]
  },
  {
   "cell_type": "code",
   "execution_count": 16,
   "metadata": {},
   "outputs": [
    {
     "data": {
      "text/plain": [
       "<seaborn.axisgrid.FacetGrid at 0x7fe18832ee10>"
      ]
     },
     "execution_count": 16,
     "metadata": {},
     "output_type": "execute_result"
    },
    {
     "data": {
      "image/png": "[encoded data removed]",
      "text/plain": [
       "<Figure size 360x360 with 1 Axes>"
      ]
     },
     "metadata": {},
     "output_type": "display_data"
    }
   ],
   "source": [
    "sns.lmplot(x='Age',y='TrialType',data=age)"
   ]
  },
  {
   "cell_type": "markdown",
   "metadata": {},
   "source": [
    "Does the age of accused persons relate to sex?"
   ]
  },
  {
   "cell_type": "code",
   "execution_count": 17,
   "metadata": {
    "scrolled": true
   },
   "outputs": [],
   "source": [
    "male = age[age['Sex']== 'Male']\n",
    "female = age[age['Sex']=='Female']"
   ]
  },
  {
   "cell_type": "code",
   "execution_count": 18,
   "metadata": {},
   "outputs": [
    {
     "data": {
      "text/plain": [
       "<matplotlib.legend.Legend at 0x7fe17a7fc518>"
      ]
     },
     "execution_count": 18,
     "metadata": {},
     "output_type": "execute_result"
    },
    {
     "data": {
      "image/png": "[encoded data removed]",
      "text/plain": [
       "<Figure size 432x288 with 1 Axes>"
      ]
     },
     "metadata": {},
     "output_type": "display_data"
    }
   ],
   "source": [
    "sns.distplot(male['Age'],label=\"male\")\n",
    "sns.distplot(female['Age'],label=\"female\").legend()"
   ]
  },
  {
   "cell_type": "markdown",
   "metadata": {},
   "source": [
    "Reflection"
   ]
  },
  {
   "cell_type": "markdown",
   "metadata": {},
   "source": [
    "My data is related to the information of the accused persons and their trial types. Through the data analysis, we could see that there are 3219 accused persons in total and most of them are punished by 2.0 trialtype. Most people are accused in their middle age. In addition, more females were accused compared to males. Maybe we could find some stories through the data to learn about the history of witchcraft. I think we trial type is an important information in our research and our data holder also hope we could learn this type of data. We could figure out how people were punished and even find the reasons which is quite an interesting aspects to fuc on. Maybe we could do some visualisation furthur with the combination of other information to find if there is a rule in the related data. "
   ]
  },
  {
   "cell_type": "markdown",
   "metadata": {},
   "source": [
    "Hypotheses"
   ]
  },
  {
   "cell_type": "markdown",
   "metadata": {},
   "source": [
    "1.There was a peak time of accusing people.\n",
    " Since we could see that most people were punished in their middle age through the first plot gragh. We could analyse the timeline of accusing and combine the age of accused persons to see if there is a relation between the values.\n",
    " \n",
    "2.The type of trial was related to the punishment place.\n",
    " I find that most people were trialed by 2.0 and 4.0 trialtype through the analysis. And we found that the geographic distribution was centralized through the Wikidata Query before. So I guess some area would use similar trial type and we could see the data on map to see if this is true.\n",
    " \n",
    "3.Female were more likely to be accused when they were young.\n",
    " I find that males were more likely to be accused when they get older and females took more risks than males to be accused at a younger age. Maybe we need to find out more age information of the accused people and discuss with our data host. Furthur analysis is also needed and we need to learn about the history of switchcraft to see if more females were related to the witchcraft or majority of males could escape from being accused.\n"
   ]
  }
 ],
 "metadata": {
  "kernelspec": {
   "display_name": "Python 3",
   "language": "python",
   "name": "python3"
  },
  "language_info": {
   "codemirror_mode": {
    "name": "ipython",
    "version": 3
   },
   "file_extension": ".py",
   "mimetype": "text/x-python",
   "name": "python",
   "nbconvert_exporter": "python",
   "pygments_lexer": "ipython3",
   "version": "3.6.6"
  }
 },
 "nbformat": 4,
 "nbformat_minor": 2
}
