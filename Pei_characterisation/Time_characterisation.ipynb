{
 "cells": [
  {
   "cell_type": "code",
   "execution_count": 1,
   "metadata": {},
   "outputs": [],
   "source": [
    "# # install required packages for local workspace\n",
    "# numpy already exists\n",
    "# !pip install pandas\n",
    "# !pip install seaborn"
   ]
  },
  {
   "cell_type": "code",
   "execution_count": 2,
   "metadata": {},
   "outputs": [],
   "source": [
    "# import packages for analysing\n",
    "import pandas as pd\n",
    "import seaborn as sns\n",
    "import numpy as np\n",
    "import glob"
   ]
  },
  {
   "cell_type": "code",
   "execution_count": 3,
   "metadata": {},
   "outputs": [],
   "source": [
    "# packages for plot\n",
    "%matplotlib inline\n",
    "import matplotlib.pyplot as plt"
   ]
  },
  {
   "cell_type": "code",
   "execution_count": 4,
   "metadata": {},
   "outputs": [],
   "source": [
    "# packages for chi sqaure test\n",
    "from scipy.stats import chi2_contingency"
   ]
  },
  {
   "cell_type": "markdown",
   "metadata": {},
   "source": [
    "The whole data are provided in form of `*.wdb`(database files for Microsoft Access) file and exported to csv tables."
   ]
  },
  {
   "cell_type": "code",
   "execution_count": 5,
   "metadata": {},
   "outputs": [
    {
     "name": "stdout",
     "output_type": "stream",
     "text": [
      "                       fileName  rows columns\n",
      "0                WDB_Person.csv  2355      16\n",
      "1        WDB_ReligiousMotif.csv   128       9\n",
      "2                WDB_Ordeal.csv   134      12\n",
      "3      WDB_MentionedAsWitch.csv  1258      19\n",
      "4            WDB_WhiteMagic.csv    85       9\n",
      "5             WDB_Reference.csv  4921      34\n",
      "6     WDB_MusicalInstrument.csv    51      10\n",
      "7           WDB_LinkedTrial.csv  5476       6\n",
      "8            WDB_Ref_Parish.csv  1288      19\n",
      "9        WDB_CalendarCustom.csv   142       9\n",
      "10         WDB_Denunciation.csv    72      12\n",
      "11         WDB_Trial_Person.csv   641      12\n",
      "12          WDB_Case_person.csv  9791      11\n",
      "13           WDB_Commission.csv  1603      15\n",
      "14       WDB_Accused_family.csv   951      19\n",
      "15         WDB_RitualObject.csv   632       9\n",
      "16                WDB_Trial.csv  3211      65\n",
      "17              WDB_Torture.csv   110      12\n",
      "18           WDB_MovestoHLA.csv   276      12\n",
      "19      WDB_DevilAppearance.csv   396      10\n",
      "20                 timeLine.csv  3413      11\n",
      "21      WDB_CounterStrategy.csv    78       9\n",
      "22         WDB_OtherCharges.csv   507       9\n",
      "23    WDB_Elf_FairyElements.csv   150       9\n",
      "24               WDB_Malice.csv   138       9\n",
      "25      WDB_OtherNamedwitch.csv  1342      16\n",
      "26       WDB_PrevCommission.csv    16      12\n",
      "27        WDB_ShapeChanging.csv    59      10\n",
      "28              WDB_Accused.csv  3219      31\n",
      "29               WDB_Appeal.csv   192      14\n",
      "30               WDB_Source.csv   124       5\n",
      "31       WDB_PropertyDamage.csv   200       9\n",
      "32         WDB_Imprisonment.csv   640      15\n",
      "33            WDB_Complaint.csv    91      17\n",
      "34          WDB_DemonicPact.csv   961      10\n",
      "35                 WDB_Case.csv  3413     111\n",
      "36           WDB_Confession.csv   941      18\n",
      "37  WDB_WitchesMeetingPlace.csv   561      11\n",
      "38  WDB_WeatherModification.csv    24       9\n",
      "39\n"
     ]
    }
   ],
   "source": [
    "fileNumber = 0\n",
    "# import pandas before running these codes:\n",
    "fileInfoList = pd.DataFrame(columns = [\"fileName\", \"rows\",\"columns\"])\n",
    "for file in glob.glob(\"*.csv\"):\n",
    "    tempCsv = pd.read_csv(file)\n",
    "    fileInfoList.loc[fileNumber] = [file, tempCsv.shape[0], tempCsv.shape[1]]\n",
    "    fileNumber += 1\n",
    "# # write the file infomation into csv\n",
    "# fileInfoList.to_csv(\"fileInfoList.csv\",index=False,sep=',')\n",
    "\n",
    "# # read file information from fileInfoList if part of the csv files are provided.\n",
    "# fileInfoList = pandas.read_csv(\"fileInfoList.csv\")\n",
    "\n",
    "print(fileInfoList)\n",
    "print(fileNumber)"
   ]
  },
  {
   "cell_type": "markdown",
   "metadata": {},
   "source": [
    "There are 38 csv files in different shapes.\n",
    "\n",
    "(file \"fileInfoList.csv\" \"timeLine\" are created during analyzing)"
   ]
  },
  {
   "cell_type": "markdown",
   "metadata": {},
   "source": [
    "# Case\n",
    "\n",
    "**Case** refers to a witchcraft accusation of one individual witch.\n",
    "\n",
    "**Case** consists of:\n",
    " - The begining: initial denunciation or supposed denunciation.\n",
    " - Middle: investigation, arrest and trial of an accused witch.\n",
    " - End: dropped charges, a verdict of inocence or execution.\n",
    " \n",
    "Load the data."
   ]
  },
  {
   "cell_type": "code",
   "execution_count": 6,
   "metadata": {},
   "outputs": [
    {
     "data": {
      "text/html": [
       "<div>\n",
       "<style scoped>\n",
       "    .dataframe tbody tr th:only-of-type {\n",
       "        vertical-align: middle;\n",
       "    }\n",
       "\n",
       "    .dataframe tbody tr th {\n",
       "        vertical-align: top;\n",
       "    }\n",
       "\n",
       "    .dataframe thead th {\n",
       "        text-align: right;\n",
       "    }\n",
       "</style>\n",
       "<table border=\"1\" class=\"dataframe\">\n",
       "  <thead>\n",
       "    <tr style=\"text-align: right;\">\n",
       "      <th></th>\n",
       "      <th>CaseRef</th>\n",
       "      <th>CaseId</th>\n",
       "      <th>CaseSystemId</th>\n",
       "      <th>NamedIndividual</th>\n",
       "      <th>AccusedRef</th>\n",
       "      <th>CaseStart_date</th>\n",
       "      <th>CaseStart_date_as_date</th>\n",
       "      <th>Case_date</th>\n",
       "      <th>Case_date_as_date</th>\n",
       "      <th>Age_at_case</th>\n",
       "      <th>...</th>\n",
       "      <th>ClaimedPossessed</th>\n",
       "      <th>AdmitLesserCharge</th>\n",
       "      <th>ClaimedNaturalCauses</th>\n",
       "      <th>Nodefence</th>\n",
       "      <th>DefenseNotes</th>\n",
       "      <th>CaseNotes</th>\n",
       "      <th>Createdby</th>\n",
       "      <th>Createdate</th>\n",
       "      <th>Lastupdatedby</th>\n",
       "      <th>Lastupdatedon</th>\n",
       "    </tr>\n",
       "  </thead>\n",
       "  <tbody>\n",
       "    <tr>\n",
       "      <th>0</th>\n",
       "      <td>C/EGD/10</td>\n",
       "      <td>10</td>\n",
       "      <td>EGD</td>\n",
       "      <td>0.0</td>\n",
       "      <td>NaN</td>\n",
       "      <td>2/8/1649</td>\n",
       "      <td>02/08/1649, 00:00:00</td>\n",
       "      <td>2/8/1649</td>\n",
       "      <td>02/08/1649, 00:00:00</td>\n",
       "      <td>NaN</td>\n",
       "      <td>...</td>\n",
       "      <td>0</td>\n",
       "      <td>0</td>\n",
       "      <td>0</td>\n",
       "      <td>0</td>\n",
       "      <td>NaN</td>\n",
       "      <td>certain persons from Haymouth.</td>\n",
       "      <td>SMD</td>\n",
       "      <td>15/05/2001, 17:00:16</td>\n",
       "      <td>jhm</td>\n",
       "      <td>30/07/2002, 15:32:43</td>\n",
       "    </tr>\n",
       "    <tr>\n",
       "      <th>1</th>\n",
       "      <td>C/EGD/100</td>\n",
       "      <td>100</td>\n",
       "      <td>EGD</td>\n",
       "      <td>-1.0</td>\n",
       "      <td>A/EGD/89</td>\n",
       "      <td>27/1/1591</td>\n",
       "      <td>27/01/1591, 00:00:00</td>\n",
       "      <td>8/5/1591</td>\n",
       "      <td>08/05/1591, 00:00:00</td>\n",
       "      <td>NaN</td>\n",
       "      <td>...</td>\n",
       "      <td>0</td>\n",
       "      <td>0</td>\n",
       "      <td>0</td>\n",
       "      <td>0</td>\n",
       "      <td>NaN</td>\n",
       "      <td>NaN</td>\n",
       "      <td>SMD</td>\n",
       "      <td>15/05/2001, 17:00:16</td>\n",
       "      <td>jhm</td>\n",
       "      <td>10/10/2002, 14:51:54</td>\n",
       "    </tr>\n",
       "    <tr>\n",
       "      <th>2</th>\n",
       "      <td>C/EGD/1000</td>\n",
       "      <td>1000</td>\n",
       "      <td>EGD</td>\n",
       "      <td>-1.0</td>\n",
       "      <td>A/EGD/989</td>\n",
       "      <td>6/5/1627</td>\n",
       "      <td>06/05/1627, 00:00:00</td>\n",
       "      <td>6/5/1627</td>\n",
       "      <td>06/05/1627, 00:00:00</td>\n",
       "      <td>NaN</td>\n",
       "      <td>...</td>\n",
       "      <td>0</td>\n",
       "      <td>0</td>\n",
       "      <td>0</td>\n",
       "      <td>0</td>\n",
       "      <td>NaN</td>\n",
       "      <td>NaN</td>\n",
       "      <td>SMD</td>\n",
       "      <td>15/05/2001, 17:00:16</td>\n",
       "      <td>jhm</td>\n",
       "      <td>09/10/2002, 15:52:09</td>\n",
       "    </tr>\n",
       "    <tr>\n",
       "      <th>3</th>\n",
       "      <td>C/EGD/1001</td>\n",
       "      <td>1001</td>\n",
       "      <td>EGD</td>\n",
       "      <td>-1.0</td>\n",
       "      <td>A/EGD/990</td>\n",
       "      <td>NaN</td>\n",
       "      <td>NaN</td>\n",
       "      <td>25/4/1627</td>\n",
       "      <td>25/04/1627, 00:00:00</td>\n",
       "      <td>NaN</td>\n",
       "      <td>...</td>\n",
       "      <td>0</td>\n",
       "      <td>0</td>\n",
       "      <td>0</td>\n",
       "      <td>0</td>\n",
       "      <td>NaN</td>\n",
       "      <td>NaN</td>\n",
       "      <td>SMD</td>\n",
       "      <td>15/05/2001, 17:00:16</td>\n",
       "      <td>jhm</td>\n",
       "      <td>18/09/2002, 15:23:08</td>\n",
       "    </tr>\n",
       "    <tr>\n",
       "      <th>4</th>\n",
       "      <td>C/EGD/1002</td>\n",
       "      <td>1002</td>\n",
       "      <td>EGD</td>\n",
       "      <td>-1.0</td>\n",
       "      <td>A/EGD/991</td>\n",
       "      <td>NaN</td>\n",
       "      <td>NaN</td>\n",
       "      <td>3/5/1627</td>\n",
       "      <td>03/05/1627, 00:00:00</td>\n",
       "      <td>NaN</td>\n",
       "      <td>...</td>\n",
       "      <td>0</td>\n",
       "      <td>0</td>\n",
       "      <td>0</td>\n",
       "      <td>0</td>\n",
       "      <td>NaN</td>\n",
       "      <td>NaN</td>\n",
       "      <td>SMD</td>\n",
       "      <td>15/05/2001, 17:00:16</td>\n",
       "      <td>jhm</td>\n",
       "      <td>13/11/2002, 13:59:41</td>\n",
       "    </tr>\n",
       "  </tbody>\n",
       "</table>\n",
       "<p>5 rows × 111 columns</p>\n",
       "</div>"
      ],
      "text/plain": [
       "      CaseRef  CaseId CaseSystemId  NamedIndividual AccusedRef CaseStart_date  \\\n",
       "0    C/EGD/10      10          EGD              0.0        NaN       2/8/1649   \n",
       "1   C/EGD/100     100          EGD             -1.0   A/EGD/89      27/1/1591   \n",
       "2  C/EGD/1000    1000          EGD             -1.0  A/EGD/989       6/5/1627   \n",
       "3  C/EGD/1001    1001          EGD             -1.0  A/EGD/990            NaN   \n",
       "4  C/EGD/1002    1002          EGD             -1.0  A/EGD/991            NaN   \n",
       "\n",
       "  CaseStart_date_as_date  Case_date     Case_date_as_date  Age_at_case  \\\n",
       "0   02/08/1649, 00:00:00   2/8/1649  02/08/1649, 00:00:00          NaN   \n",
       "1   27/01/1591, 00:00:00   8/5/1591  08/05/1591, 00:00:00          NaN   \n",
       "2   06/05/1627, 00:00:00   6/5/1627  06/05/1627, 00:00:00          NaN   \n",
       "3                    NaN  25/4/1627  25/04/1627, 00:00:00          NaN   \n",
       "4                    NaN   3/5/1627  03/05/1627, 00:00:00          NaN   \n",
       "\n",
       "           ...          ClaimedPossessed AdmitLesserCharge  \\\n",
       "0          ...                         0                 0   \n",
       "1          ...                         0                 0   \n",
       "2          ...                         0                 0   \n",
       "3          ...                         0                 0   \n",
       "4          ...                         0                 0   \n",
       "\n",
       "  ClaimedNaturalCauses Nodefence  DefenseNotes  \\\n",
       "0                    0         0           NaN   \n",
       "1                    0         0           NaN   \n",
       "2                    0         0           NaN   \n",
       "3                    0         0           NaN   \n",
       "4                    0         0           NaN   \n",
       "\n",
       "                        CaseNotes  Createdby            Createdate  \\\n",
       "0  certain persons from Haymouth.        SMD  15/05/2001, 17:00:16   \n",
       "1                             NaN        SMD  15/05/2001, 17:00:16   \n",
       "2                             NaN        SMD  15/05/2001, 17:00:16   \n",
       "3                             NaN        SMD  15/05/2001, 17:00:16   \n",
       "4                             NaN        SMD  15/05/2001, 17:00:16   \n",
       "\n",
       "   Lastupdatedby         Lastupdatedon  \n",
       "0            jhm  30/07/2002, 15:32:43  \n",
       "1            jhm  10/10/2002, 14:51:54  \n",
       "2            jhm  09/10/2002, 15:52:09  \n",
       "3            jhm  18/09/2002, 15:23:08  \n",
       "4            jhm  13/11/2002, 13:59:41  \n",
       "\n",
       "[5 rows x 111 columns]"
      ]
     },
     "execution_count": 6,
     "metadata": {},
     "output_type": "execute_result"
    }
   ],
   "source": [
    "case = pd.read_csv(\"WDB_Case.csv\")\n",
    "case.head()"
   ]
  },
  {
   "cell_type": "code",
   "execution_count": 7,
   "metadata": {},
   "outputs": [
    {
     "data": {
      "text/plain": [
       "(3413, 111)"
      ]
     },
     "execution_count": 7,
     "metadata": {},
     "output_type": "execute_result"
    }
   ],
   "source": [
    "case.shape"
   ]
  },
  {
   "cell_type": "code",
   "execution_count": 8,
   "metadata": {},
   "outputs": [
    {
     "data": {
      "text/plain": [
       "CaseRef                    object\n",
       "CaseId                      int64\n",
       "CaseSystemId               object\n",
       "NamedIndividual           float64\n",
       "AccusedRef                 object\n",
       "CaseStart_date             object\n",
       "CaseStart_date_as_date     object\n",
       "Case_date                  object\n",
       "Case_date_as_date          object\n",
       "Age_at_case               float64\n",
       "CaseCommonName             object\n",
       "Commission                 object\n",
       "Complaint                  object\n",
       "Correspondence             object\n",
       "Chronicle                 float64\n",
       "Other                      object\n",
       "Suspects_text             float64\n",
       "UNorthodoxRelPract_p        int64\n",
       "UNorthodoxRelPract_s        int64\n",
       "Consulting_p                int64\n",
       "Consulting_s                int64\n",
       "Demonic_p                   int64\n",
       "Demonic_s                   int64\n",
       "Demonic_possess_p           int64\n",
       "Demonic_possess_s           int64\n",
       "Fairies_p                   int64\n",
       "Fairies_s                   int64\n",
       "Folk_healing_p              int64\n",
       "Folk_healing_s              int64\n",
       "Maleficium_p                int64\n",
       "                           ...   \n",
       "AnimalDeath                 int64\n",
       "FemaleInfertility           int64\n",
       "MaleImpotence               int64\n",
       "AggravatingDisease          int64\n",
       "TransferringDisease         int64\n",
       "LayingOn                    int64\n",
       "Removalbewitchment          int64\n",
       "Quarreling                  int64\n",
       "Cursing                     int64\n",
       "Poisoning                   int64\n",
       "RecHealer                   int64\n",
       "HealingHumans               int64\n",
       "HealingAnimals              int64\n",
       "Midwifery                   int64\n",
       "DiseaseNotes               object\n",
       "PropertyDamage              int64\n",
       "WeatherModification         int64\n",
       "OtherMaleficiaNotes        object\n",
       "OtherChargesNotes          object\n",
       "ClaimedBewitched            int64\n",
       "ClaimedPossessed            int64\n",
       "AdmitLesserCharge           int64\n",
       "ClaimedNaturalCauses        int64\n",
       "Nodefence                   int64\n",
       "DefenseNotes               object\n",
       "CaseNotes                  object\n",
       "Createdby                  object\n",
       "Createdate                 object\n",
       "Lastupdatedby              object\n",
       "Lastupdatedon              object\n",
       "Length: 111, dtype: object"
      ]
     },
     "execution_count": 8,
     "metadata": {},
     "output_type": "execute_result"
    }
   ],
   "source": [
    "case.dtypes"
   ]
  },
  {
   "cell_type": "code",
   "execution_count": 9,
   "metadata": {},
   "outputs": [
    {
     "data": {
      "text/plain": [
       "str"
      ]
     },
     "execution_count": 9,
     "metadata": {},
     "output_type": "execute_result"
    }
   ],
   "source": [
    "type(case['AccusedRef'][5])"
   ]
  },
  {
   "cell_type": "markdown",
   "metadata": {},
   "source": [
    "note: Here `object` refers `string`.But sometimes `object` means numpy.float or some other types of data."
   ]
  },
  {
   "cell_type": "code",
   "execution_count": 10,
   "metadata": {},
   "outputs": [
    {
     "data": {
      "text/plain": [
       "CaseRef                   3413\n",
       "CaseId                    3413\n",
       "CaseSystemId              3413\n",
       "NamedIndividual           3411\n",
       "AccusedRef                3212\n",
       "CaseStart_date            2627\n",
       "CaseStart_date_as_date    2627\n",
       "Case_date                 3399\n",
       "Case_date_as_date         3398\n",
       "Age_at_case                164\n",
       "CaseCommonName            3413\n",
       "Commission                  46\n",
       "Complaint                    3\n",
       "Correspondence              20\n",
       "Chronicle                    0\n",
       "Other                       46\n",
       "Suspects_text             1114\n",
       "UNorthodoxRelPract_p      3413\n",
       "UNorthodoxRelPract_s      3413\n",
       "Consulting_p              3413\n",
       "Consulting_s              3413\n",
       "Demonic_p                 3413\n",
       "Demonic_s                 3413\n",
       "Demonic_possess_p         3413\n",
       "Demonic_possess_s         3413\n",
       "Fairies_p                 3413\n",
       "Fairies_s                 3413\n",
       "Folk_healing_p            3413\n",
       "Folk_healing_s            3413\n",
       "Maleficium_p              3413\n",
       "                          ... \n",
       "AnimalDeath               3413\n",
       "FemaleInfertility         3413\n",
       "MaleImpotence             3413\n",
       "AggravatingDisease        3413\n",
       "TransferringDisease       3413\n",
       "LayingOn                  3413\n",
       "Removalbewitchment        3413\n",
       "Quarreling                3413\n",
       "Cursing                   3413\n",
       "Poisoning                 3413\n",
       "RecHealer                 3413\n",
       "HealingHumans             3413\n",
       "HealingAnimals            3413\n",
       "Midwifery                 3413\n",
       "DiseaseNotes               328\n",
       "PropertyDamage            3413\n",
       "WeatherModification       3413\n",
       "OtherMaleficiaNotes         78\n",
       "OtherChargesNotes           27\n",
       "ClaimedBewitched          3413\n",
       "ClaimedPossessed          3413\n",
       "AdmitLesserCharge         3413\n",
       "ClaimedNaturalCauses      3413\n",
       "Nodefence                 3413\n",
       "DefenseNotes                21\n",
       "CaseNotes                 1142\n",
       "Createdby                 3413\n",
       "Createdate                3413\n",
       "Lastupdatedby             3413\n",
       "Lastupdatedon             3413\n",
       "Length: 111, dtype: int64"
      ]
     },
     "execution_count": 10,
     "metadata": {},
     "output_type": "execute_result"
    }
   ],
   "source": [
    "case.count()"
   ]
  },
  {
   "cell_type": "markdown",
   "metadata": {},
   "source": [
    "In the data with 3413 rows, some are horribly missing such as columns `Age_at_case`, `Commission`, `Complaint`...\n",
    "\n",
    "note: The blank fields mean `unknown`.\n",
    "\n",
    "## I. Dates and duration\n",
    "\n",
    "In the first part, my focus is `CaseStart_date` and `Case_date`(means the end date) and caculating the duration to see how long each case lasted."
   ]
  },
  {
   "cell_type": "code",
   "execution_count": 11,
   "metadata": {},
   "outputs": [
    {
     "name": "stdout",
     "output_type": "stream",
     "text": [
      "      CaseRef CaseStart_date  Case_date\n",
      "0    C/EGD/10       2/8/1649   2/8/1649\n",
      "1   C/EGD/100      27/1/1591   8/5/1591\n",
      "2  C/EGD/1000       6/5/1627   6/5/1627\n",
      "3  C/EGD/1001            NaN  25/4/1627\n",
      "4  C/EGD/1002            NaN   3/5/1627\n"
     ]
    }
   ],
   "source": [
    "timeLine = case.loc[:, (\"CaseRef\",\"CaseStart_date\", \"Case_date\")].copy()\n",
    "print(timeLine.head())"
   ]
  },
  {
   "cell_type": "markdown",
   "metadata": {},
   "source": [
    "Caculate the duration of case, and add to the timeLine dateframe."
   ]
  },
  {
   "cell_type": "code",
   "execution_count": 12,
   "metadata": {},
   "outputs": [
    {
     "data": {
      "text/plain": [
       "2627"
      ]
     },
     "execution_count": 12,
     "metadata": {},
     "output_type": "execute_result"
    }
   ],
   "source": [
    "rowsNumber = timeLine.shape[0]\n",
    "\n",
    "# considering NAN, add some bool series to mark which row are NAN\n",
    "timeLine[\"recorded_start\"] = ~ timeLine[\"CaseStart_date\"].isnull()\n",
    "timeLine[\"recorded_end\"] = ~ timeLine[\"Case_date\"].isnull()\n",
    "timeLine[\"recorded_duration\"] = timeLine[\"recorded_start\"] & timeLine[\"recorded_end\"]\n",
    "\n",
    "# show the number of valid timelines\n",
    "np.sum(timeLine[\"recorded_duration\"])"
   ]
  },
  {
   "cell_type": "markdown",
   "metadata": {},
   "source": [
    "There are 4 formats in the dates:\n",
    " - \"30/11/2017\"\n",
    " - \"11/2017\" \n",
    " - \"2017\"\n",
    " - NAN\n",
    " \n",
    "NAN was addressed by bool marks.\n",
    "\n",
    "The other 3 formats are addressed through following functions:\n",
    " - Transfer date string to days or months numbers\n",
    " - Caculate the duration between two different dates\n",
    " - Get the year when the case happened"
   ]
  },
  {
   "cell_type": "code",
   "execution_count": 13,
   "metadata": {},
   "outputs": [],
   "source": [
    "# function to transfer the int date list to days or months so we can caculate dates by days or months\n",
    "def timeCacu(dateList, mode):\n",
    "    if(mode == \"days\"):\n",
    "        uni = [365, 30, 1]\n",
    "    elif(mode == \"months\"):\n",
    "        uni = [12, 1, 1/30]\n",
    "    else:\n",
    "        return(0)\n",
    "    timeSum = 0\n",
    "    j = 0\n",
    "    dateList.reverse()\n",
    "    for i in dateList:\n",
    "        timeSum += i * uni[j]\n",
    "        j += 1\n",
    "#     Dealing with format like \"30/11/2017\", \"11/2017\", \"2017\"\n",
    "#     \"11/2017\" is treated as \"01/11/2017\"; \"2017\" is treated as \"01/06/2017\"\n",
    "#     uni[0], uni[1], uni[2] represent year, month, day\n",
    "    if(j == 1):\n",
    "        timeSum += uni[1] * 6 + uni[2] * 1\n",
    "    if(j == 2):\n",
    "        timeSum += uni[2] * 1\n",
    "        \n",
    "    return(timeSum)\n",
    "        \n",
    "# function to caculate the days or months between two dates\n",
    "def dateCacu(date1, date2, mode):\n",
    "    dateList1 = list(map(int, date1.split(\"/\")))\n",
    "    dateList2 = list(map(int, date2.split(\"/\")))\n",
    "    if(date1 == date2):\n",
    "        return(1)\n",
    "    duration = timeCacu(dateList2, mode) - timeCacu(dateList1, mode)\n",
    "    return(duration)\n",
    "\n",
    "# function to get the year from the string date\n",
    "def getYear(date):\n",
    "    date = list(map(int, date.split(\"/\")))\n",
    "    date.reverse()\n",
    "    return(date[0])"
   ]
  },
  {
   "cell_type": "code",
   "execution_count": 14,
   "metadata": {},
   "outputs": [
    {
     "data": {
      "text/plain": [
       "20.899999999997817"
      ]
     },
     "execution_count": 14,
     "metadata": {},
     "output_type": "execute_result"
    }
   ],
   "source": [
    "# Test the function\n",
    "dateCacu(\"6/5/2017\", \"3/2/2019\", \"months\")"
   ]
  },
  {
   "cell_type": "code",
   "execution_count": 15,
   "metadata": {},
   "outputs": [
    {
     "data": {
      "text/plain": [
       "2017"
      ]
     },
     "execution_count": 15,
     "metadata": {},
     "output_type": "execute_result"
    }
   ],
   "source": [
    "getYear(\"6/5/2017\")"
   ]
  },
  {
   "cell_type": "markdown",
   "metadata": {},
   "source": [
    "Use these functions to address our dates:"
   ]
  },
  {
   "cell_type": "code",
   "execution_count": 16,
   "metadata": {},
   "outputs": [],
   "source": [
    "# New columns\n",
    "timeLine[\"duration\"] = 1\n",
    "timeLine[\"year\"] = 1\n",
    "\n",
    "for i in range(rowsNumber):\n",
    "    startDate = timeLine[\"CaseStart_date\"][i]\n",
    "    endDate = timeLine[\"Case_date\"][i]\n",
    "    if(timeLine[\"recorded_duration\"][i]):\n",
    "        # caculate the duration\n",
    "        duration = dateCacu(startDate, endDate, \"days\")\n",
    "        year = getYear(startDate)\n",
    "    elif(timeLine[\"recorded_end\"][i]):\n",
    "        year = getYear(endDate)\n",
    "        duration = 1\n",
    "    else:\n",
    "        year = np.nan\n",
    "        duration = 1\n",
    "    # In case new columns inserted, extract index from data.\n",
    "    durationIndex = timeLine.columns.tolist().index(\"duration\")\n",
    "    yearIndex = timeLine.columns.tolist().index(\"year\")\n",
    "    timeLine.iloc[i, durationIndex] = duration\n",
    "    timeLine.iloc[i, yearIndex] = year"
   ]
  },
  {
   "cell_type": "code",
   "execution_count": 17,
   "metadata": {},
   "outputs": [],
   "source": [
    "# mark the rows that the year was successfully caculated\n",
    "timeLine[\"valid_year\"] = ~ timeLine[\"year\"].isnull()"
   ]
  },
  {
   "cell_type": "code",
   "execution_count": 18,
   "metadata": {},
   "outputs": [
    {
     "data": {
      "text/html": [
       "<div>\n",
       "<style scoped>\n",
       "    .dataframe tbody tr th:only-of-type {\n",
       "        vertical-align: middle;\n",
       "    }\n",
       "\n",
       "    .dataframe tbody tr th {\n",
       "        vertical-align: top;\n",
       "    }\n",
       "\n",
       "    .dataframe thead th {\n",
       "        text-align: right;\n",
       "    }\n",
       "</style>\n",
       "<table border=\"1\" class=\"dataframe\">\n",
       "  <thead>\n",
       "    <tr style=\"text-align: right;\">\n",
       "      <th></th>\n",
       "      <th>CaseRef</th>\n",
       "      <th>CaseStart_date</th>\n",
       "      <th>Case_date</th>\n",
       "      <th>recorded_start</th>\n",
       "      <th>recorded_end</th>\n",
       "      <th>recorded_duration</th>\n",
       "      <th>duration</th>\n",
       "      <th>year</th>\n",
       "      <th>valid_year</th>\n",
       "    </tr>\n",
       "  </thead>\n",
       "  <tbody>\n",
       "    <tr>\n",
       "      <th>0</th>\n",
       "      <td>C/EGD/10</td>\n",
       "      <td>2/8/1649</td>\n",
       "      <td>2/8/1649</td>\n",
       "      <td>True</td>\n",
       "      <td>True</td>\n",
       "      <td>True</td>\n",
       "      <td>1</td>\n",
       "      <td>1649.0</td>\n",
       "      <td>True</td>\n",
       "    </tr>\n",
       "    <tr>\n",
       "      <th>1</th>\n",
       "      <td>C/EGD/100</td>\n",
       "      <td>27/1/1591</td>\n",
       "      <td>8/5/1591</td>\n",
       "      <td>True</td>\n",
       "      <td>True</td>\n",
       "      <td>True</td>\n",
       "      <td>101</td>\n",
       "      <td>1591.0</td>\n",
       "      <td>True</td>\n",
       "    </tr>\n",
       "    <tr>\n",
       "      <th>2</th>\n",
       "      <td>C/EGD/1000</td>\n",
       "      <td>6/5/1627</td>\n",
       "      <td>6/5/1627</td>\n",
       "      <td>True</td>\n",
       "      <td>True</td>\n",
       "      <td>True</td>\n",
       "      <td>1</td>\n",
       "      <td>1627.0</td>\n",
       "      <td>True</td>\n",
       "    </tr>\n",
       "    <tr>\n",
       "      <th>3</th>\n",
       "      <td>C/EGD/1001</td>\n",
       "      <td>NaN</td>\n",
       "      <td>25/4/1627</td>\n",
       "      <td>False</td>\n",
       "      <td>True</td>\n",
       "      <td>False</td>\n",
       "      <td>1</td>\n",
       "      <td>1627.0</td>\n",
       "      <td>True</td>\n",
       "    </tr>\n",
       "    <tr>\n",
       "      <th>4</th>\n",
       "      <td>C/EGD/1002</td>\n",
       "      <td>NaN</td>\n",
       "      <td>3/5/1627</td>\n",
       "      <td>False</td>\n",
       "      <td>True</td>\n",
       "      <td>False</td>\n",
       "      <td>1</td>\n",
       "      <td>1627.0</td>\n",
       "      <td>True</td>\n",
       "    </tr>\n",
       "  </tbody>\n",
       "</table>\n",
       "</div>"
      ],
      "text/plain": [
       "      CaseRef CaseStart_date  Case_date  recorded_start  recorded_end  \\\n",
       "0    C/EGD/10       2/8/1649   2/8/1649            True          True   \n",
       "1   C/EGD/100      27/1/1591   8/5/1591            True          True   \n",
       "2  C/EGD/1000       6/5/1627   6/5/1627            True          True   \n",
       "3  C/EGD/1001            NaN  25/4/1627           False          True   \n",
       "4  C/EGD/1002            NaN   3/5/1627           False          True   \n",
       "\n",
       "   recorded_duration  duration    year  valid_year  \n",
       "0               True         1  1649.0        True  \n",
       "1               True       101  1591.0        True  \n",
       "2               True         1  1627.0        True  \n",
       "3              False         1  1627.0        True  \n",
       "4              False         1  1627.0        True  "
      ]
     },
     "execution_count": 18,
     "metadata": {},
     "output_type": "execute_result"
    }
   ],
   "source": [
    "timeLine.head()"
   ]
  },
  {
   "cell_type": "code",
   "execution_count": 19,
   "metadata": {},
   "outputs": [
    {
     "data": {
      "text/html": [
       "<div>\n",
       "<style scoped>\n",
       "    .dataframe tbody tr th:only-of-type {\n",
       "        vertical-align: middle;\n",
       "    }\n",
       "\n",
       "    .dataframe tbody tr th {\n",
       "        vertical-align: top;\n",
       "    }\n",
       "\n",
       "    .dataframe thead th {\n",
       "        text-align: right;\n",
       "    }\n",
       "</style>\n",
       "<table border=\"1\" class=\"dataframe\">\n",
       "  <thead>\n",
       "    <tr style=\"text-align: right;\">\n",
       "      <th></th>\n",
       "      <th>duration</th>\n",
       "      <th>year</th>\n",
       "    </tr>\n",
       "  </thead>\n",
       "  <tbody>\n",
       "    <tr>\n",
       "      <th>count</th>\n",
       "      <td>3413.000000</td>\n",
       "      <td>3399.000000</td>\n",
       "    </tr>\n",
       "    <tr>\n",
       "      <th>mean</th>\n",
       "      <td>170.425432</td>\n",
       "      <td>1643.415122</td>\n",
       "    </tr>\n",
       "    <tr>\n",
       "      <th>std</th>\n",
       "      <td>1600.638510</td>\n",
       "      <td>28.938536</td>\n",
       "    </tr>\n",
       "    <tr>\n",
       "      <th>min</th>\n",
       "      <td>-36161.000000</td>\n",
       "      <td>1507.000000</td>\n",
       "    </tr>\n",
       "    <tr>\n",
       "      <th>25%</th>\n",
       "      <td>1.000000</td>\n",
       "      <td>1629.000000</td>\n",
       "    </tr>\n",
       "    <tr>\n",
       "      <th>50%</th>\n",
       "      <td>1.000000</td>\n",
       "      <td>1649.000000</td>\n",
       "    </tr>\n",
       "    <tr>\n",
       "      <th>75%</th>\n",
       "      <td>15.000000</td>\n",
       "      <td>1661.000000</td>\n",
       "    </tr>\n",
       "    <tr>\n",
       "      <th>max</th>\n",
       "      <td>36500.000000</td>\n",
       "      <td>1727.000000</td>\n",
       "    </tr>\n",
       "  </tbody>\n",
       "</table>\n",
       "</div>"
      ],
      "text/plain": [
       "           duration         year\n",
       "count   3413.000000  3399.000000\n",
       "mean     170.425432  1643.415122\n",
       "std     1600.638510    28.938536\n",
       "min   -36161.000000  1507.000000\n",
       "25%        1.000000  1629.000000\n",
       "50%        1.000000  1649.000000\n",
       "75%       15.000000  1661.000000\n",
       "max    36500.000000  1727.000000"
      ]
     },
     "execution_count": 19,
     "metadata": {},
     "output_type": "execute_result"
    }
   ],
   "source": [
    "timeLine.describe()"
   ]
  },
  {
   "cell_type": "markdown",
   "metadata": {},
   "source": [
    "From the column `year`, it could be told that the recorded cases happened during 1507 ~ 1727.\n",
    "\n",
    "This general view in description also suggests that there are some **wierd things** about the start and end date: \n",
    " - Some end dates are ahead of start dates.\n",
    "\n",
    "To avoid this issue in the following analysis, add a new column to mark if the duration is valid. I choose not to use these data and also not delete the rows in case these rows may be used for other purposes."
   ]
  },
  {
   "cell_type": "code",
   "execution_count": 20,
   "metadata": {},
   "outputs": [],
   "source": [
    "# add a new column\n",
    "# mark the duration is valid\n",
    "timeLine[\"valid_dur\"] = timeLine[\"recorded_duration\"] & (timeLine[\"duration\"] > 0)"
   ]
  },
  {
   "cell_type": "code",
   "execution_count": 21,
   "metadata": {},
   "outputs": [],
   "source": [
    "# save this useful dataframe\n",
    "# timeLine.to_csv(\"timeLine.csv\")"
   ]
  },
  {
   "cell_type": "code",
   "execution_count": 22,
   "metadata": {},
   "outputs": [
    {
     "data": {
      "text/html": [
       "<div>\n",
       "<style scoped>\n",
       "    .dataframe tbody tr th:only-of-type {\n",
       "        vertical-align: middle;\n",
       "    }\n",
       "\n",
       "    .dataframe tbody tr th {\n",
       "        vertical-align: top;\n",
       "    }\n",
       "\n",
       "    .dataframe thead th {\n",
       "        text-align: right;\n",
       "    }\n",
       "</style>\n",
       "<table border=\"1\" class=\"dataframe\">\n",
       "  <thead>\n",
       "    <tr style=\"text-align: right;\">\n",
       "      <th></th>\n",
       "      <th>CaseRef</th>\n",
       "      <th>CaseStart_date</th>\n",
       "      <th>Case_date</th>\n",
       "      <th>recorded_start</th>\n",
       "      <th>recorded_end</th>\n",
       "      <th>recorded_duration</th>\n",
       "      <th>duration</th>\n",
       "      <th>year</th>\n",
       "      <th>valid_year</th>\n",
       "      <th>valid_dur</th>\n",
       "    </tr>\n",
       "  </thead>\n",
       "  <tbody>\n",
       "    <tr>\n",
       "      <th>0</th>\n",
       "      <td>C/EGD/10</td>\n",
       "      <td>2/8/1649</td>\n",
       "      <td>2/8/1649</td>\n",
       "      <td>True</td>\n",
       "      <td>True</td>\n",
       "      <td>True</td>\n",
       "      <td>1</td>\n",
       "      <td>1649.0</td>\n",
       "      <td>True</td>\n",
       "      <td>True</td>\n",
       "    </tr>\n",
       "    <tr>\n",
       "      <th>1</th>\n",
       "      <td>C/EGD/100</td>\n",
       "      <td>27/1/1591</td>\n",
       "      <td>8/5/1591</td>\n",
       "      <td>True</td>\n",
       "      <td>True</td>\n",
       "      <td>True</td>\n",
       "      <td>101</td>\n",
       "      <td>1591.0</td>\n",
       "      <td>True</td>\n",
       "      <td>True</td>\n",
       "    </tr>\n",
       "    <tr>\n",
       "      <th>2</th>\n",
       "      <td>C/EGD/1000</td>\n",
       "      <td>6/5/1627</td>\n",
       "      <td>6/5/1627</td>\n",
       "      <td>True</td>\n",
       "      <td>True</td>\n",
       "      <td>True</td>\n",
       "      <td>1</td>\n",
       "      <td>1627.0</td>\n",
       "      <td>True</td>\n",
       "      <td>True</td>\n",
       "    </tr>\n",
       "    <tr>\n",
       "      <th>3</th>\n",
       "      <td>C/EGD/1001</td>\n",
       "      <td>NaN</td>\n",
       "      <td>25/4/1627</td>\n",
       "      <td>False</td>\n",
       "      <td>True</td>\n",
       "      <td>False</td>\n",
       "      <td>1</td>\n",
       "      <td>1627.0</td>\n",
       "      <td>True</td>\n",
       "      <td>False</td>\n",
       "    </tr>\n",
       "    <tr>\n",
       "      <th>4</th>\n",
       "      <td>C/EGD/1002</td>\n",
       "      <td>NaN</td>\n",
       "      <td>3/5/1627</td>\n",
       "      <td>False</td>\n",
       "      <td>True</td>\n",
       "      <td>False</td>\n",
       "      <td>1</td>\n",
       "      <td>1627.0</td>\n",
       "      <td>True</td>\n",
       "      <td>False</td>\n",
       "    </tr>\n",
       "  </tbody>\n",
       "</table>\n",
       "</div>"
      ],
      "text/plain": [
       "      CaseRef CaseStart_date  Case_date  recorded_start  recorded_end  \\\n",
       "0    C/EGD/10       2/8/1649   2/8/1649            True          True   \n",
       "1   C/EGD/100      27/1/1591   8/5/1591            True          True   \n",
       "2  C/EGD/1000       6/5/1627   6/5/1627            True          True   \n",
       "3  C/EGD/1001            NaN  25/4/1627           False          True   \n",
       "4  C/EGD/1002            NaN   3/5/1627           False          True   \n",
       "\n",
       "   recorded_duration  duration    year  valid_year  valid_dur  \n",
       "0               True         1  1649.0        True       True  \n",
       "1               True       101  1591.0        True       True  \n",
       "2               True         1  1627.0        True       True  \n",
       "3              False         1  1627.0        True      False  \n",
       "4              False         1  1627.0        True      False  "
      ]
     },
     "execution_count": 22,
     "metadata": {},
     "output_type": "execute_result"
    }
   ],
   "source": [
    "timeLine.head()"
   ]
  },
  {
   "cell_type": "markdown",
   "metadata": {},
   "source": [
    "Here, a `timeLine.csv` file is created to record the durations.\n",
    "\n",
    "A series of bool vector `recorded_start`, `recorded_end`, `recorded_duration`, `valid_dur` indicating the reliability of the `duration` and can be used as index vector to extract required duration time.\n",
    "\n",
    "Based on this dataframe:\n",
    "\n",
    "1. When did most cases happened?"
   ]
  },
  {
   "cell_type": "code",
   "execution_count": 70,
   "metadata": {},
   "outputs": [
    {
     "data": {
      "image/png": "[encoded data removed]",
      "text/plain": [
       "<Figure size 432x288 with 1 Axes>"
      ]
     },
     "metadata": {
      "needs_background": "light"
     },
     "output_type": "display_data"
    }
   ],
   "source": [
    "case_years = timeLine.loc[(timeLine[\"valid_year\"], \"year\")]\n",
    "chart = sns.distplot(case_years)\n",
    "chart.set_title(\"Figure.1 Distribution of the time of cases\")\n",
    "plt.show()"
   ]
  },
  {
   "cell_type": "code",
   "execution_count": 71,
   "metadata": {},
   "outputs": [
    {
     "data": {
      "text/plain": [
       "1649.0    440\n",
       "1662.0    375\n",
       "1661.0    245\n",
       "1629.0    192\n",
       "1650.0    186\n",
       "1643.0    129\n",
       "Name: year, dtype: int64"
      ]
     },
     "execution_count": 71,
     "metadata": {},
     "output_type": "execute_result"
    }
   ],
   "source": [
    "case_years.value_counts().iloc[0:6]"
   ]
  },
  {
   "cell_type": "markdown",
   "metadata": {},
   "source": [
    "According to the distribution plot and value counts, during 1507 ~ 1727, there are five peak years when most cases happened: 1649, 1662, 1661, 1629, 1650.\n",
    "\n",
    "Most of the cases happened around 1649 ~ 1662."
   ]
  },
  {
   "cell_type": "markdown",
   "metadata": {},
   "source": [
    " 2. How long did the longest case last?"
   ]
  },
  {
   "cell_type": "code",
   "execution_count": 72,
   "metadata": {},
   "outputs": [
    {
     "data": {
      "image/png": "[encoded data removed]",
      "text/plain": [
       "<Figure size 432x288 with 1 Axes>"
      ]
     },
     "metadata": {
      "needs_background": "light"
     },
     "output_type": "display_data"
    }
   ],
   "source": [
    "# plot the distribution to see the pattern of the duration of cases.\n",
    "valid_timeLine = timeLine.loc[(timeLine[\"valid_dur\"], \"duration\")]\n",
    "chart = sns.distplot(valid_timeLine)\n",
    "chart.set_title(\"Figure.2 Distribution of the duration of cases\")\n",
    "plt.show()\n",
    "\n",
    "#note: sometims there is a futureWarning about index"
   ]
  },
  {
   "cell_type": "code",
   "execution_count": 73,
   "metadata": {},
   "outputs": [
    {
     "data": {
      "text/plain": [
       "count     2606.000000\n",
       "mean       251.566002\n",
       "std       1552.039759\n",
       "min          1.000000\n",
       "25%          1.000000\n",
       "50%          1.000000\n",
       "75%         46.750000\n",
       "max      36500.000000\n",
       "Name: duration, dtype: float64"
      ]
     },
     "execution_count": 73,
     "metadata": {},
     "output_type": "execute_result"
    }
   ],
   "source": [
    "valid_timeLine.describe()"
   ]
  },
  {
   "cell_type": "markdown",
   "metadata": {},
   "source": [
    "As a result, the longest case lasted for 10 years.\n",
    "\n",
    "Most 1-day durations could be accounted to that the end date is the same as the start date in the database."
   ]
  },
  {
   "cell_type": "markdown",
   "metadata": {},
   "source": [
    "## II. Characterisation"
   ]
  },
  {
   "cell_type": "markdown",
   "metadata": {},
   "source": [
    "Part II analyzes the characterisation.\n",
    "\n",
    "**Characterisation** is the feature of case. There are 2 types of characterisation:\n",
    " - Primary characterisation: the research team decided this was the main theme.\n",
    " - Secondary characterisation: the team found this mentioned in the documentation.\n",
    " \n",
    "Extract the relevant data:"
   ]
  },
  {
   "cell_type": "code",
   "execution_count": 74,
   "metadata": {},
   "outputs": [],
   "source": [
    "characterisation = case.loc[:, \"UNorthodoxRelPract_p\":\"WhiteMagic_s\"]"
   ]
  },
  {
   "cell_type": "code",
   "execution_count": 75,
   "metadata": {},
   "outputs": [],
   "source": [
    "# drop the notes column\n",
    "characterisation = characterisation.drop(columns = [\"OtherText\"])"
   ]
  },
  {
   "cell_type": "code",
   "execution_count": 76,
   "metadata": {},
   "outputs": [
    {
     "data": {
      "text/plain": [
       "(3413, 34)"
      ]
     },
     "execution_count": 76,
     "metadata": {},
     "output_type": "execute_result"
    }
   ],
   "source": [
    "characterisation.shape"
   ]
  },
  {
   "cell_type": "code",
   "execution_count": 77,
   "metadata": {},
   "outputs": [
    {
     "data": {
      "text/plain": [
       "UNorthodoxRelPract_p        0\n",
       "UNorthodoxRelPract_s       85\n",
       "Consulting_p               11\n",
       "Consulting_s               46\n",
       "Demonic_p                  49\n",
       "Demonic_s                 528\n",
       "Demonic_possess_p          56\n",
       "Demonic_possess_s          79\n",
       "Fairies_p                   9\n",
       "Fairies_s                 113\n",
       "Folk_healing_p             40\n",
       "Folk_healing_s            141\n",
       "Maleficium_p               40\n",
       "Maleficium_s              414\n",
       "Midwifery_p                 0\n",
       "Midwifery_s                10\n",
       "ImplicatedByAnother_p      32\n",
       "ImplicatedByAnother_s     948\n",
       "Neighbhd_dispute_p         49\n",
       "Neighbhd_dispute_s        120\n",
       "PoliticalMotive_p           3\n",
       "PoliticalMotive_s          52\n",
       "PropertyMotive_p            3\n",
       "PropertyMotive_s           62\n",
       "RefusedCharity_p            9\n",
       "RefusedCharity_s           19\n",
       "Treason_p                   3\n",
       "Treason_s                  19\n",
       "Other_p                    14\n",
       "Other_s                    23\n",
       "NotEnoughInfo_p          3070\n",
       "NotEnoughInfo_s          3113\n",
       "WhiteMagic_p                5\n",
       "WhiteMagic_s               70\n",
       "dtype: int64"
      ]
     },
     "execution_count": 77,
     "metadata": {},
     "output_type": "execute_result"
    }
   ],
   "source": [
    "np.sum(characterisation)"
   ]
  },
  {
   "cell_type": "code",
   "execution_count": 78,
   "metadata": {},
   "outputs": [],
   "source": [
    "characterisationNotEnoughInfo = characterisation.loc[:, \"NotEnoughInfo_p\":\"NotEnoughInfo_s\"]\n",
    "# then drop the two columns to better illustrate the info that is recorded\n",
    "characterisation = characterisation.drop(columns = [\"NotEnoughInfo_p\", \"NotEnoughInfo_s\"])"
   ]
  },
  {
   "cell_type": "code",
   "execution_count": 79,
   "metadata": {},
   "outputs": [],
   "source": [
    "# separate the primary characterisation and the secondary charaterisation of cases\n",
    "p = range(characterisation.shape[1])[::2]\n",
    "s = range(characterisation.shape[1])[1::2]\n",
    "characterisationPrimary = characterisation.iloc[:, p]\n",
    "characterisationSecondary = characterisation.iloc[:, s]"
   ]
  },
  {
   "cell_type": "markdown",
   "metadata": {},
   "source": [
    "Based on these two dataframes:\n",
    "\n",
    " 1. Illustrate the pattern of the main themes."
   ]
  },
  {
   "cell_type": "code",
   "execution_count": 80,
   "metadata": {},
   "outputs": [
    {
     "data": {
      "text/html": [
       "<div>\n",
       "<style scoped>\n",
       "    .dataframe tbody tr th:only-of-type {\n",
       "        vertical-align: middle;\n",
       "    }\n",
       "\n",
       "    .dataframe tbody tr th {\n",
       "        vertical-align: top;\n",
       "    }\n",
       "\n",
       "    .dataframe thead th {\n",
       "        text-align: right;\n",
       "    }\n",
       "</style>\n",
       "<table border=\"1\" class=\"dataframe\">\n",
       "  <thead>\n",
       "    <tr style=\"text-align: right;\">\n",
       "      <th></th>\n",
       "      <th>0</th>\n",
       "    </tr>\n",
       "  </thead>\n",
       "  <tbody>\n",
       "    <tr>\n",
       "      <th>UNorthodoxRelPract_p</th>\n",
       "      <td>0</td>\n",
       "    </tr>\n",
       "    <tr>\n",
       "      <th>Consulting_p</th>\n",
       "      <td>11</td>\n",
       "    </tr>\n",
       "    <tr>\n",
       "      <th>Demonic_p</th>\n",
       "      <td>49</td>\n",
       "    </tr>\n",
       "    <tr>\n",
       "      <th>Demonic_possess_p</th>\n",
       "      <td>56</td>\n",
       "    </tr>\n",
       "    <tr>\n",
       "      <th>Fairies_p</th>\n",
       "      <td>9</td>\n",
       "    </tr>\n",
       "    <tr>\n",
       "      <th>Folk_healing_p</th>\n",
       "      <td>40</td>\n",
       "    </tr>\n",
       "    <tr>\n",
       "      <th>Maleficium_p</th>\n",
       "      <td>40</td>\n",
       "    </tr>\n",
       "    <tr>\n",
       "      <th>Midwifery_p</th>\n",
       "      <td>0</td>\n",
       "    </tr>\n",
       "    <tr>\n",
       "      <th>ImplicatedByAnother_p</th>\n",
       "      <td>32</td>\n",
       "    </tr>\n",
       "    <tr>\n",
       "      <th>Neighbhd_dispute_p</th>\n",
       "      <td>49</td>\n",
       "    </tr>\n",
       "    <tr>\n",
       "      <th>PoliticalMotive_p</th>\n",
       "      <td>3</td>\n",
       "    </tr>\n",
       "    <tr>\n",
       "      <th>PropertyMotive_p</th>\n",
       "      <td>3</td>\n",
       "    </tr>\n",
       "    <tr>\n",
       "      <th>RefusedCharity_p</th>\n",
       "      <td>9</td>\n",
       "    </tr>\n",
       "    <tr>\n",
       "      <th>Treason_p</th>\n",
       "      <td>3</td>\n",
       "    </tr>\n",
       "    <tr>\n",
       "      <th>Other_p</th>\n",
       "      <td>14</td>\n",
       "    </tr>\n",
       "    <tr>\n",
       "      <th>WhiteMagic_p</th>\n",
       "      <td>5</td>\n",
       "    </tr>\n",
       "  </tbody>\n",
       "</table>\n",
       "</div>"
      ],
      "text/plain": [
       "                        0\n",
       "UNorthodoxRelPract_p    0\n",
       "Consulting_p           11\n",
       "Demonic_p              49\n",
       "Demonic_possess_p      56\n",
       "Fairies_p               9\n",
       "Folk_healing_p         40\n",
       "Maleficium_p           40\n",
       "Midwifery_p             0\n",
       "ImplicatedByAnother_p  32\n",
       "Neighbhd_dispute_p     49\n",
       "PoliticalMotive_p       3\n",
       "PropertyMotive_p        3\n",
       "RefusedCharity_p        9\n",
       "Treason_p               3\n",
       "Other_p                14\n",
       "WhiteMagic_p            5"
      ]
     },
     "execution_count": 80,
     "metadata": {},
     "output_type": "execute_result"
    }
   ],
   "source": [
    "primaryChaDist = np.sum(characterisationPrimary)\n",
    "primaryChaDist = pd.DataFrame(primaryChaDist)\n",
    "primaryChaDist"
   ]
  },
  {
   "cell_type": "code",
   "execution_count": 81,
   "metadata": {},
   "outputs": [],
   "source": [
    "# to render the names cleaner, delete _p\n",
    "# note: this may not be a good choice for the latter matrix with rows of pimary and columns of secondary\n",
    "cha_Names = list()\n",
    "for name in primaryChaDist.index:\n",
    "    name = name.replace(\"_p\", \"\")\n",
    "    cha_Names.append(name)\n",
    "primaryChaDist.index = cha_Names"
   ]
  },
  {
   "cell_type": "code",
   "execution_count": 82,
   "metadata": {},
   "outputs": [
    {
     "data": {
      "image/png": "[encoded data removed]",
      "text/plain": [
       "<Figure size 432x288 with 1 Axes>"
      ]
     },
     "metadata": {
      "needs_background": "light"
     },
     "output_type": "display_data"
    }
   ],
   "source": [
    "chart = sns.barplot(x = primaryChaDist.index, y = primaryChaDist.loc[:,0], palette = 'Set3')\n",
    "chart.set_xticklabels(chart.get_xticklabels(), rotation = -90)\n",
    "chart.set_title(\"Figure.3 Recorded themes of cases\")\n",
    "plt.show()"
   ]
  },
  {
   "cell_type": "markdown",
   "metadata": {},
   "source": [
    "The most popular themes in witchcraft cases are: Demonicossess, Demonic and Neighbhd_dispute.\n",
    "\n",
    "For the features mentioned in the case:"
   ]
  },
  {
   "cell_type": "code",
   "execution_count": 83,
   "metadata": {},
   "outputs": [
    {
     "data": {
      "text/html": [
       "<div>\n",
       "<style scoped>\n",
       "    .dataframe tbody tr th:only-of-type {\n",
       "        vertical-align: middle;\n",
       "    }\n",
       "\n",
       "    .dataframe tbody tr th {\n",
       "        vertical-align: top;\n",
       "    }\n",
       "\n",
       "    .dataframe thead th {\n",
       "        text-align: right;\n",
       "    }\n",
       "</style>\n",
       "<table border=\"1\" class=\"dataframe\">\n",
       "  <thead>\n",
       "    <tr style=\"text-align: right;\">\n",
       "      <th></th>\n",
       "      <th>0</th>\n",
       "    </tr>\n",
       "  </thead>\n",
       "  <tbody>\n",
       "    <tr>\n",
       "      <th>UNorthodoxRelPract_s</th>\n",
       "      <td>85</td>\n",
       "    </tr>\n",
       "    <tr>\n",
       "      <th>Consulting_s</th>\n",
       "      <td>46</td>\n",
       "    </tr>\n",
       "    <tr>\n",
       "      <th>Demonic_s</th>\n",
       "      <td>528</td>\n",
       "    </tr>\n",
       "    <tr>\n",
       "      <th>Demonic_possess_s</th>\n",
       "      <td>79</td>\n",
       "    </tr>\n",
       "    <tr>\n",
       "      <th>Fairies_s</th>\n",
       "      <td>113</td>\n",
       "    </tr>\n",
       "    <tr>\n",
       "      <th>Folk_healing_s</th>\n",
       "      <td>141</td>\n",
       "    </tr>\n",
       "    <tr>\n",
       "      <th>Maleficium_s</th>\n",
       "      <td>414</td>\n",
       "    </tr>\n",
       "    <tr>\n",
       "      <th>Midwifery_s</th>\n",
       "      <td>10</td>\n",
       "    </tr>\n",
       "    <tr>\n",
       "      <th>ImplicatedByAnother_s</th>\n",
       "      <td>948</td>\n",
       "    </tr>\n",
       "    <tr>\n",
       "      <th>Neighbhd_dispute_s</th>\n",
       "      <td>120</td>\n",
       "    </tr>\n",
       "    <tr>\n",
       "      <th>PoliticalMotive_s</th>\n",
       "      <td>52</td>\n",
       "    </tr>\n",
       "    <tr>\n",
       "      <th>PropertyMotive_s</th>\n",
       "      <td>62</td>\n",
       "    </tr>\n",
       "    <tr>\n",
       "      <th>RefusedCharity_s</th>\n",
       "      <td>19</td>\n",
       "    </tr>\n",
       "    <tr>\n",
       "      <th>Treason_s</th>\n",
       "      <td>19</td>\n",
       "    </tr>\n",
       "    <tr>\n",
       "      <th>Other_s</th>\n",
       "      <td>23</td>\n",
       "    </tr>\n",
       "    <tr>\n",
       "      <th>WhiteMagic_s</th>\n",
       "      <td>70</td>\n",
       "    </tr>\n",
       "  </tbody>\n",
       "</table>\n",
       "</div>"
      ],
      "text/plain": [
       "                         0\n",
       "UNorthodoxRelPract_s    85\n",
       "Consulting_s            46\n",
       "Demonic_s              528\n",
       "Demonic_possess_s       79\n",
       "Fairies_s              113\n",
       "Folk_healing_s         141\n",
       "Maleficium_s           414\n",
       "Midwifery_s             10\n",
       "ImplicatedByAnother_s  948\n",
       "Neighbhd_dispute_s     120\n",
       "PoliticalMotive_s       52\n",
       "PropertyMotive_s        62\n",
       "RefusedCharity_s        19\n",
       "Treason_s               19\n",
       "Other_s                 23\n",
       "WhiteMagic_s            70"
      ]
     },
     "execution_count": 83,
     "metadata": {},
     "output_type": "execute_result"
    }
   ],
   "source": [
    "secondaryChaDist = pd.DataFrame(np.sum(characterisationSecondary))\n",
    "secondaryChaDist"
   ]
  },
  {
   "cell_type": "code",
   "execution_count": 84,
   "metadata": {},
   "outputs": [],
   "source": [
    "# same to _s\n",
    "cha_Names = list()\n",
    "for name in secondaryChaDist.index:\n",
    "    name = name.replace(\"_s\", \"\")\n",
    "    cha_Names.append(name)\n",
    "secondaryChaDist.index = cha_Names"
   ]
  },
  {
   "cell_type": "code",
   "execution_count": 85,
   "metadata": {},
   "outputs": [
    {
     "data": {
      "image/png": "[encoded data removed]",
      "text/plain": [
       "<Figure size 432x288 with 1 Axes>"
      ]
     },
     "metadata": {
      "needs_background": "light"
     },
     "output_type": "display_data"
    }
   ],
   "source": [
    "chart = sns.barplot(x = secondaryChaDist.index, y = secondaryChaDist.loc[:,0], palette = 'Set3')\n",
    "chart.set_xticklabels(chart.get_xticklabels(), rotation = -90)\n",
    "chart.set_title(\"Figure.4 Mentioned features of cases\")\n",
    "plt.show()"
   ]
  },
  {
   "cell_type": "markdown",
   "metadata": {},
   "source": [
    "The pattern of mentioned features is different from the pattern of themes. The most popular features mentioned are: `Implicated by another(named as accomplice)`, `Demonic` and `Maleficium`."
   ]
  },
  {
   "cell_type": "markdown",
   "metadata": {},
   "source": [
    "2. Explore the relations between main themes and mentioned features.\n",
    "\n",
    "To test whether two categorical variables is related, I apply chi-square test on contingency tables.\n",
    "\n",
    "Prepare the function for chi-square test:"
   ]
  },
  {
   "cell_type": "code",
   "execution_count": 86,
   "metadata": {},
   "outputs": [],
   "source": [
    "# from scipy.stats import chi2_contingency\n",
    "# function to caculate two arrays into a contingency table and do chi_square test.\n",
    "def chiContingencyTest(array1, array2):\n",
    "#     array1 and array 2 should be pd or np series. py list do not work.\n",
    "    x = array1 == 1\n",
    "    y = array2 == 1\n",
    "    a = np.sum(x & y)\n",
    "    b = np.sum(x & ~y)\n",
    "    c = np.sum(~x & y)\n",
    "    d = np.sum(~x & ~y)\n",
    "    chi_table = np.array([[a, b],[c, d]])\n",
    "    return(chi2_contingency(chi_table))"
   ]
  },
  {
   "cell_type": "markdown",
   "metadata": {},
   "source": [
    "Test the chiContingencyTest function, showing that two random arrays will get a p-value > 0.1, which means they are significantly related."
   ]
  },
  {
   "cell_type": "code",
   "execution_count": 87,
   "metadata": {},
   "outputs": [],
   "source": [
    "x =np.random.rand(3000)\n",
    "x = x - 0.95"
   ]
  },
  {
   "cell_type": "code",
   "execution_count": 88,
   "metadata": {},
   "outputs": [],
   "source": [
    "y = np.random.rand(3000)\n",
    "y = y - 0.98"
   ]
  },
  {
   "cell_type": "code",
   "execution_count": 89,
   "metadata": {},
   "outputs": [],
   "source": [
    "x = x > 0"
   ]
  },
  {
   "cell_type": "code",
   "execution_count": 90,
   "metadata": {},
   "outputs": [],
   "source": [
    "y = y > 0"
   ]
  },
  {
   "cell_type": "code",
   "execution_count": 91,
   "metadata": {},
   "outputs": [
    {
     "data": {
      "text/plain": [
       "0.7204785524980035"
      ]
     },
     "execution_count": 91,
     "metadata": {},
     "output_type": "execute_result"
    }
   ],
   "source": [
    "chiContingencyTest(x, y)[1]"
   ]
  },
  {
   "cell_type": "markdown",
   "metadata": {},
   "source": [
    "Related arrays will get a p-value near 0, meaning they are affecting each other."
   ]
  },
  {
   "cell_type": "code",
   "execution_count": 92,
   "metadata": {},
   "outputs": [
    {
     "data": {
      "text/plain": [
       "0.0"
      ]
     },
     "execution_count": 92,
     "metadata": {},
     "output_type": "execute_result"
    }
   ],
   "source": [
    "chiContingencyTest(x, ~ x)[1]"
   ]
  },
  {
   "cell_type": "markdown",
   "metadata": {},
   "source": [
    "To illustrate the relations among these characterisations. I plan to draw a heatmap. The first step is to create a dataframe storing the indicators for the heatmap."
   ]
  },
  {
   "cell_type": "code",
   "execution_count": 93,
   "metadata": {},
   "outputs": [],
   "source": [
    "# build a dataframe to record the indicators\n",
    "primaryCorSecondary = pd.DataFrame(index = primaryChaDist.index, columns = secondaryChaDist.index)"
   ]
  },
  {
   "cell_type": "code",
   "execution_count": 94,
   "metadata": {},
   "outputs": [
    {
     "name": "stdout",
     "output_type": "stream",
     "text": [
      "An error occurred. The point is: 0 0\n",
      "An error occurred. The point is: 0 1\n",
      "An error occurred. The point is: 0 2\n",
      "An error occurred. The point is: 0 3\n",
      "An error occurred. The point is: 0 4\n",
      "An error occurred. The point is: 0 5\n",
      "An error occurred. The point is: 0 6\n",
      "An error occurred. The point is: 0 7\n",
      "An error occurred. The point is: 0 8\n",
      "An error occurred. The point is: 0 9\n",
      "An error occurred. The point is: 0 10\n",
      "An error occurred. The point is: 0 11\n",
      "An error occurred. The point is: 0 12\n",
      "An error occurred. The point is: 0 13\n",
      "An error occurred. The point is: 0 14\n",
      "An error occurred. The point is: 0 15\n",
      "An error occurred. The point is: 7 0\n",
      "An error occurred. The point is: 7 1\n",
      "An error occurred. The point is: 7 2\n",
      "An error occurred. The point is: 7 3\n",
      "An error occurred. The point is: 7 4\n",
      "An error occurred. The point is: 7 5\n",
      "An error occurred. The point is: 7 6\n",
      "An error occurred. The point is: 7 7\n",
      "An error occurred. The point is: 7 8\n",
      "An error occurred. The point is: 7 9\n",
      "An error occurred. The point is: 7 10\n",
      "An error occurred. The point is: 7 11\n",
      "An error occurred. The point is: 7 12\n",
      "An error occurred. The point is: 7 13\n",
      "An error occurred. The point is: 7 14\n",
      "An error occurred. The point is: 7 15\n"
     ]
    }
   ],
   "source": [
    "for i in range(characterisationPrimary.shape[1]):\n",
    "    for j in range(characterisationSecondary.shape[1]):\n",
    "        try:\n",
    "            primaryCorSecondary.iloc[i, j] = chiContingencyTest(characterisationPrimary.iloc[:, i], characterisationSecondary.iloc[:, j])[1]\n",
    "        except:\n",
    "            print(\"An error occurred. The point is:\", i, j)\n",
    "            primaryCorSecondary.iloc[i, j] = 1"
   ]
  },
  {
   "cell_type": "markdown",
   "metadata": {},
   "source": [
    "These errors occurred because all the values in `UNorthodoxRelPract_p` and `Midwifery_p` are FALSE(ZERO).\n",
    "\n",
    "Assume their p-value is 1.0 in these fields so that they are not related to any other variables."
   ]
  },
  {
   "cell_type": "code",
   "execution_count": 95,
   "metadata": {},
   "outputs": [
    {
     "data": {
      "image/png": "[encoded data removed]",
      "text/plain": [
       "<Figure size 432x288 with 2 Axes>"
      ]
     },
     "metadata": {
      "needs_background": "light"
     },
     "output_type": "display_data"
    }
   ],
   "source": [
    "# the seanborn.heatmap cannot handle none, so fill the none first.\n",
    "primaryCorSecondary.fillna(value=np.nan, inplace=True)\n",
    "chart = sns.heatmap(primaryCorSecondary, cmap=\"YlGnBu\")\n",
    "chart.set_title(\"Figure.5 p-value of Chi-square test\")\n",
    "plt.show()"
   ]
  },
  {
   "cell_type": "markdown",
   "metadata": {},
   "source": [
    "The colour spectrum represent the value of chi-square test p-value. Yellow means that the theme(in rows) are related with the feature(in columns).\n",
    "\n",
    "Furthermore, compare the p-value with 0.05 to address the significance. "
   ]
  },
  {
   "cell_type": "code",
   "execution_count": 96,
   "metadata": {},
   "outputs": [],
   "source": [
    "# modify the function.\n",
    "# return an indicator that is able to show the \"positive\" or \"negative\" relation.\n",
    "def chiContingencyTest_2(array1, array2):\n",
    "#     array1 and array 2 should be pd or np series. py list do not work.\n",
    "    x = array1 == 1\n",
    "    y = array2 == 1\n",
    "    a = np.sum(x & y)\n",
    "    b = np.sum(x & ~y)\n",
    "    c = np.sum(~x & y)\n",
    "    d = np.sum(~x & ~y)\n",
    "    chi_table = np.array([[a, b],[c, d]])\n",
    "    try:\n",
    "        pValue = chi2_contingency(chi_table)[1]\n",
    "    except:\n",
    "        pValue = 1.0\n",
    "    return(pValue > 0.05)"
   ]
  },
  {
   "cell_type": "code",
   "execution_count": 97,
   "metadata": {},
   "outputs": [],
   "source": [
    "# build a dataframe to record the indicators\n",
    "primaryCorSecondary_2 = pd.DataFrame(index = primaryChaDist.index, columns = secondaryChaDist.index)"
   ]
  },
  {
   "cell_type": "code",
   "execution_count": 98,
   "metadata": {},
   "outputs": [],
   "source": [
    "for i in range(characterisationPrimary.shape[1]):\n",
    "    for j in range(characterisationSecondary.shape[1]):\n",
    "        primaryCorSecondary_2.iloc[i, j] = chiContingencyTest_2(characterisationPrimary.iloc[:, i], characterisationSecondary.iloc[:, j])"
   ]
  },
  {
   "cell_type": "code",
   "execution_count": 99,
   "metadata": {},
   "outputs": [
    {
     "data": {
      "image/png": "[encoded data removed]",
      "text/plain": [
       "<Figure size 432x288 with 2 Axes>"
      ]
     },
     "metadata": {
      "needs_background": "light"
     },
     "output_type": "display_data"
    }
   ],
   "source": [
    "# the seanborn.heatmap cannot handle none, so fill the none first.\n",
    "primaryCorSecondary_2.fillna(value=np.nan, inplace=True)\n",
    "chart = sns.heatmap(primaryCorSecondary_2, cmap = \"Pastel1\")\n",
    "chart.set_title(\"Figure.6 Significant relations\")\n",
    "plt.show()"
   ]
  },
  {
   "cell_type": "markdown",
   "metadata": {},
   "source": [
    "Now, the result can be better interpreted.\n",
    "\n",
    "The colour Pink means that the theme are related with the feature significantly.\n",
    "\n",
    "For example:"
   ]
  },
  {
   "cell_type": "code",
   "execution_count": 100,
   "metadata": {},
   "outputs": [
    {
     "name": "stdout",
     "output_type": "stream",
     "text": [
      "The theme \"Fairies\" is significantly related with:\n",
      "UNorthodoxRelPract, Demonic, Folk_healing, Maleficium, Midwifery, RefusedCharity, Treason, WhiteMagic.\n"
     ]
    }
   ],
   "source": [
    "# change the theme here if you want to explore another theme\n",
    "# options:'UNorthodoxRelPract', 'Consulting', 'Demonic', 'Demonic_possess',\n",
    "#        'Fairies', 'Folk_healing', 'Maleficium', 'Midwifery',\n",
    "#        'ImplicatedByAnother', 'Neighbhd_dispute', 'PoliticalMotive',\n",
    "#        'PropertyMotive', 'RefusedCharity', 'Treason', 'Other', 'WhiteMagic'\n",
    "theme = \"Fairies\"\n",
    "\n",
    "relatedNames = primaryCorSecondary_2.columns[ ~ primaryCorSecondary_2.loc[theme]]\n",
    "print(\"The theme \\\"\"+ theme + \"\\\" is significantly related with:\")\n",
    "string = \"\"\n",
    "for name in relatedNames:\n",
    "    if(name != theme):\n",
    "        string += name + \", \"\n",
    "print(string[0:-2] + \".\")"
   ]
  },
  {
   "cell_type": "markdown",
   "metadata": {},
   "source": [
    "However, it could not be inferred from chi-sqaure test whether they are \"positively\" related or \"negatively\" related."
   ]
  },
  {
   "cell_type": "markdown",
   "metadata": {},
   "source": [
    "Another idea is to explore which features are more likely to appear in each theme.\n",
    "\n",
    "The method is to count the relative frequencies of features mentioned in different themes."
   ]
  },
  {
   "cell_type": "code",
   "execution_count": 101,
   "metadata": {},
   "outputs": [],
   "source": [
    "# build a dataframe to record the indicators\n",
    "primaryCorSecondary_3 = pd.DataFrame(index = primaryChaDist.index, columns = secondaryChaDist.index)"
   ]
  },
  {
   "cell_type": "code",
   "execution_count": 102,
   "metadata": {},
   "outputs": [],
   "source": [
    "# modify the function to return the relative frequencies\n",
    "def chiContingencyTest_3(array1, array2):\n",
    "#     array1 and array 2 should be pd or np series. py list do not work.\n",
    "    x = array1 == 1\n",
    "    y = array2 == 1\n",
    "    a = np.sum(x & y)\n",
    "#     changing x to y tells that a feature is more likely to distribute in which theme.\n",
    "    b = np.sum(x)\n",
    "    if(b == 0):\n",
    "        return(0)\n",
    "    else:\n",
    "        return(a / b)"
   ]
  },
  {
   "cell_type": "code",
   "execution_count": 103,
   "metadata": {},
   "outputs": [],
   "source": [
    "for i in range(characterisationPrimary.shape[1]):\n",
    "    for j in range(characterisationSecondary.shape[1]):\n",
    "        primaryCorSecondary_3.iloc[i, j] = chiContingencyTest_3(characterisationPrimary.iloc[:, i], characterisationSecondary.iloc[:, j])"
   ]
  },
  {
   "cell_type": "code",
   "execution_count": 104,
   "metadata": {},
   "outputs": [
    {
     "data": {
      "image/png": "[encoded data removed]",
      "text/plain": [
       "<Figure size 432x288 with 2 Axes>"
      ]
     },
     "metadata": {
      "needs_background": "light"
     },
     "output_type": "display_data"
    }
   ],
   "source": [
    "# the seanborn.heatmap cannot handle none, so fill the none first.\n",
    "primaryCorSecondary_3.fillna(value=np.nan, inplace=True)\n",
    "chart = sns.heatmap(primaryCorSecondary_3, cmap=\"YlGnBu\")\n",
    "chart.set_title(\"Figure.7 Relative frequencies of features in each theme(rows)\")\n",
    "plt.show()"
   ]
  },
  {
   "cell_type": "markdown",
   "metadata": {},
   "source": [
    "Figure.7 presents some similar patterns as the Figure.6 but more detailed."
   ]
  },
  {
   "cell_type": "code",
   "execution_count": 105,
   "metadata": {},
   "outputs": [
    {
     "name": "stdout",
     "output_type": "stream",
     "text": [
      "In the theme \"Fairies\":\n",
      "UNorthodoxRelPract, Demonic, Folk_healing, Maleficium, WhiteMagic are/is more likely to be mentioned\n"
     ]
    }
   ],
   "source": [
    "# change the theme and threshold here if you want to explore another theme\n",
    "# options:'UNorthodoxRelPract'(Unorthodox religious practice ), 'Consulting', 'Demonic', 'Demonic_possess',\n",
    "#        'Fairies', 'Folk_healing', 'Maleficium', 'Midwifery',\n",
    "#        'ImplicatedByAnother', 'Neighbhd_dispute', 'PoliticalMotive',\n",
    "#        'PropertyMotive', 'RefusedCharity', 'Treason', 'Other', 'WhiteMagic'\n",
    "theme = \"Fairies\"\n",
    "threshold = 0.4\n",
    "\n",
    "# note: this works when the rows and columns are symmatrical\n",
    "mentionedNames = primaryCorSecondary_3.columns[primaryCorSecondary_3.loc[theme] > threshold]\n",
    "print(\"In the theme \\\"\"+ theme + \"\\\":\")\n",
    "string = \"\"\n",
    "for name in mentionedNames:\n",
    "    if(name != theme):\n",
    "        string += name + \", \"\n",
    "print(string[0:-2] + \" \" + \"are/is more likely to be mentioned\")"
   ]
  },
  {
   "cell_type": "code",
   "execution_count": 106,
   "metadata": {},
   "outputs": [],
   "source": [
    "# note: wrap it to a function?"
   ]
  },
  {
   "cell_type": "code",
   "execution_count": 107,
   "metadata": {},
   "outputs": [],
   "source": [
    "def explore_characterisation(theme, threshold):\n",
    "    mentionedNames = primaryCorSecondary_3.columns[primaryCorSecondary_3.loc[theme] > threshold]\n",
    "    string = \"In the theme \\\"\"+ theme + \"\\\": \"\n",
    "    for name in mentionedNames:\n",
    "        if(name != theme):\n",
    "            string += name + \", \"\n",
    "    string = string[0:-2] + \" \" + \"are/is more likely to be mentioned.\"\n",
    "    return(string)"
   ]
  },
  {
   "cell_type": "code",
   "execution_count": 108,
   "metadata": {},
   "outputs": [
    {
     "data": {
      "text/plain": [
       "'In the theme \"Fairies\": UNorthodoxRelPract, Demonic, Folk_healing, Maleficium, WhiteMagic are/is more likely to be mentioned.'"
      ]
     },
     "execution_count": 108,
     "metadata": {},
     "output_type": "execute_result"
    }
   ],
   "source": [
    "explore_characterisation(\"Fairies\", 0.4)"
   ]
  },
  {
   "cell_type": "markdown",
   "metadata": {},
   "source": [
    "Comparing Figure.6 and Figure.7, I think Figure.7 is more meaningful because it tells what features are more likely to be mentioned in a theme.\n",
    "The way drawing Figure.7 will be reused in the analysis in part III."
   ]
  },
  {
   "cell_type": "markdown",
   "metadata": {},
   "source": [
    "## III. Disease or Damage\n",
    "Part III is focusing on disease and damage.\n",
    "\n",
    "Load the data:"
   ]
  },
  {
   "cell_type": "code",
   "execution_count": 109,
   "metadata": {},
   "outputs": [],
   "source": [
    "diseaseOrDamage = case.loc[:, \"HumanIllness\":\"WeatherModification\"].copy()"
   ]
  },
  {
   "cell_type": "code",
   "execution_count": 110,
   "metadata": {},
   "outputs": [
    {
     "data": {
      "text/html": [
       "<div>\n",
       "<style scoped>\n",
       "    .dataframe tbody tr th:only-of-type {\n",
       "        vertical-align: middle;\n",
       "    }\n",
       "\n",
       "    .dataframe tbody tr th {\n",
       "        vertical-align: top;\n",
       "    }\n",
       "\n",
       "    .dataframe thead th {\n",
       "        text-align: right;\n",
       "    }\n",
       "</style>\n",
       "<table border=\"1\" class=\"dataframe\">\n",
       "  <thead>\n",
       "    <tr style=\"text-align: right;\">\n",
       "      <th></th>\n",
       "      <th>HumanIllness</th>\n",
       "      <th>HumanDeath</th>\n",
       "      <th>AnimalIllness</th>\n",
       "      <th>AnimalDeath</th>\n",
       "      <th>FemaleInfertility</th>\n",
       "      <th>MaleImpotence</th>\n",
       "      <th>AggravatingDisease</th>\n",
       "      <th>TransferringDisease</th>\n",
       "      <th>LayingOn</th>\n",
       "      <th>Removalbewitchment</th>\n",
       "      <th>Quarreling</th>\n",
       "      <th>Cursing</th>\n",
       "      <th>Poisoning</th>\n",
       "      <th>RecHealer</th>\n",
       "      <th>HealingHumans</th>\n",
       "      <th>HealingAnimals</th>\n",
       "      <th>Midwifery</th>\n",
       "      <th>PropertyDamage</th>\n",
       "      <th>WeatherModification</th>\n",
       "    </tr>\n",
       "  </thead>\n",
       "  <tbody>\n",
       "    <tr>\n",
       "      <th>0</th>\n",
       "      <td>0</td>\n",
       "      <td>0</td>\n",
       "      <td>0</td>\n",
       "      <td>0</td>\n",
       "      <td>0</td>\n",
       "      <td>0</td>\n",
       "      <td>0</td>\n",
       "      <td>0</td>\n",
       "      <td>0</td>\n",
       "      <td>0</td>\n",
       "      <td>0</td>\n",
       "      <td>0</td>\n",
       "      <td>0</td>\n",
       "      <td>0</td>\n",
       "      <td>0</td>\n",
       "      <td>0</td>\n",
       "      <td>0</td>\n",
       "      <td>0</td>\n",
       "      <td>0</td>\n",
       "    </tr>\n",
       "    <tr>\n",
       "      <th>1</th>\n",
       "      <td>0</td>\n",
       "      <td>0</td>\n",
       "      <td>0</td>\n",
       "      <td>0</td>\n",
       "      <td>0</td>\n",
       "      <td>0</td>\n",
       "      <td>0</td>\n",
       "      <td>0</td>\n",
       "      <td>0</td>\n",
       "      <td>0</td>\n",
       "      <td>0</td>\n",
       "      <td>0</td>\n",
       "      <td>0</td>\n",
       "      <td>0</td>\n",
       "      <td>0</td>\n",
       "      <td>0</td>\n",
       "      <td>0</td>\n",
       "      <td>0</td>\n",
       "      <td>0</td>\n",
       "    </tr>\n",
       "    <tr>\n",
       "      <th>2</th>\n",
       "      <td>0</td>\n",
       "      <td>0</td>\n",
       "      <td>0</td>\n",
       "      <td>0</td>\n",
       "      <td>0</td>\n",
       "      <td>0</td>\n",
       "      <td>0</td>\n",
       "      <td>0</td>\n",
       "      <td>0</td>\n",
       "      <td>0</td>\n",
       "      <td>0</td>\n",
       "      <td>0</td>\n",
       "      <td>0</td>\n",
       "      <td>0</td>\n",
       "      <td>0</td>\n",
       "      <td>0</td>\n",
       "      <td>0</td>\n",
       "      <td>0</td>\n",
       "      <td>0</td>\n",
       "    </tr>\n",
       "    <tr>\n",
       "      <th>3</th>\n",
       "      <td>0</td>\n",
       "      <td>0</td>\n",
       "      <td>0</td>\n",
       "      <td>0</td>\n",
       "      <td>0</td>\n",
       "      <td>0</td>\n",
       "      <td>0</td>\n",
       "      <td>0</td>\n",
       "      <td>0</td>\n",
       "      <td>0</td>\n",
       "      <td>0</td>\n",
       "      <td>0</td>\n",
       "      <td>0</td>\n",
       "      <td>0</td>\n",
       "      <td>0</td>\n",
       "      <td>0</td>\n",
       "      <td>0</td>\n",
       "      <td>0</td>\n",
       "      <td>0</td>\n",
       "    </tr>\n",
       "    <tr>\n",
       "      <th>4</th>\n",
       "      <td>0</td>\n",
       "      <td>0</td>\n",
       "      <td>0</td>\n",
       "      <td>0</td>\n",
       "      <td>0</td>\n",
       "      <td>0</td>\n",
       "      <td>0</td>\n",
       "      <td>0</td>\n",
       "      <td>0</td>\n",
       "      <td>0</td>\n",
       "      <td>0</td>\n",
       "      <td>0</td>\n",
       "      <td>0</td>\n",
       "      <td>0</td>\n",
       "      <td>0</td>\n",
       "      <td>0</td>\n",
       "      <td>0</td>\n",
       "      <td>0</td>\n",
       "      <td>0</td>\n",
       "    </tr>\n",
       "  </tbody>\n",
       "</table>\n",
       "</div>"
      ],
      "text/plain": [
       "   HumanIllness  HumanDeath  AnimalIllness  AnimalDeath  FemaleInfertility  \\\n",
       "0             0           0              0            0                  0   \n",
       "1             0           0              0            0                  0   \n",
       "2             0           0              0            0                  0   \n",
       "3             0           0              0            0                  0   \n",
       "4             0           0              0            0                  0   \n",
       "\n",
       "   MaleImpotence  AggravatingDisease  TransferringDisease  LayingOn  \\\n",
       "0              0                   0                    0         0   \n",
       "1              0                   0                    0         0   \n",
       "2              0                   0                    0         0   \n",
       "3              0                   0                    0         0   \n",
       "4              0                   0                    0         0   \n",
       "\n",
       "   Removalbewitchment  Quarreling  Cursing  Poisoning  RecHealer  \\\n",
       "0                   0           0        0          0          0   \n",
       "1                   0           0        0          0          0   \n",
       "2                   0           0        0          0          0   \n",
       "3                   0           0        0          0          0   \n",
       "4                   0           0        0          0          0   \n",
       "\n",
       "   HealingHumans  HealingAnimals  Midwifery  PropertyDamage  \\\n",
       "0              0               0          0               0   \n",
       "1              0               0          0               0   \n",
       "2              0               0          0               0   \n",
       "3              0               0          0               0   \n",
       "4              0               0          0               0   \n",
       "\n",
       "   WeatherModification  \n",
       "0                    0  \n",
       "1                    0  \n",
       "2                    0  \n",
       "3                    0  \n",
       "4                    0  "
      ]
     },
     "execution_count": 110,
     "metadata": {},
     "output_type": "execute_result"
    }
   ],
   "source": [
    "diseaseOrDamage = diseaseOrDamage.drop(columns = \"DiseaseNotes\")\n",
    "diseaseOrDamage.head()"
   ]
  },
  {
   "cell_type": "code",
   "execution_count": 111,
   "metadata": {},
   "outputs": [
    {
     "data": {
      "text/plain": [
       "(3413, 19)"
      ]
     },
     "execution_count": 111,
     "metadata": {},
     "output_type": "execute_result"
    }
   ],
   "source": [
    "diseaseOrDamage.shape"
   ]
  },
  {
   "cell_type": "code",
   "execution_count": 112,
   "metadata": {},
   "outputs": [
    {
     "data": {
      "text/plain": [
       "HumanIllness           188\n",
       "HumanDeath             220\n",
       "AnimalIllness           82\n",
       "AnimalDeath             79\n",
       "FemaleInfertility        2\n",
       "MaleImpotence           10\n",
       "AggravatingDisease       5\n",
       "TransferringDisease     48\n",
       "LayingOn                47\n",
       "Removalbewitchment      29\n",
       "Quarreling             129\n",
       "Cursing                127\n",
       "Poisoning               12\n",
       "RecHealer               43\n",
       "HealingHumans          114\n",
       "HealingAnimals          48\n",
       "Midwifery               12\n",
       "PropertyDamage         134\n",
       "WeatherModification     17\n",
       "dtype: int64"
      ]
     },
     "execution_count": 112,
     "metadata": {},
     "output_type": "execute_result"
    }
   ],
   "source": [
    "np.sum(diseaseOrDamage)"
   ]
  },
  {
   "cell_type": "code",
   "execution_count": 113,
   "metadata": {},
   "outputs": [],
   "source": [
    "diseaseOrDamage_RF = pd.DataFrame(columns = diseaseOrDamage.columns, index = diseaseOrDamage.columns)"
   ]
  },
  {
   "cell_type": "code",
   "execution_count": 114,
   "metadata": {},
   "outputs": [],
   "source": [
    "for i in range(diseaseOrDamage_RF.shape[0]):\n",
    "    for j in range(diseaseOrDamage_RF.shape[1]):\n",
    "        diseaseOrDamage_RF.iloc[i, j] = chiContingencyTest_3(diseaseOrDamage.iloc[:, i], diseaseOrDamage.iloc[:, j])"
   ]
  },
  {
   "cell_type": "code",
   "execution_count": 115,
   "metadata": {},
   "outputs": [
    {
     "data": {
      "text/html": [
       "<div>\n",
       "<style scoped>\n",
       "    .dataframe tbody tr th:only-of-type {\n",
       "        vertical-align: middle;\n",
       "    }\n",
       "\n",
       "    .dataframe tbody tr th {\n",
       "        vertical-align: top;\n",
       "    }\n",
       "\n",
       "    .dataframe thead th {\n",
       "        text-align: right;\n",
       "    }\n",
       "</style>\n",
       "<table border=\"1\" class=\"dataframe\">\n",
       "  <thead>\n",
       "    <tr style=\"text-align: right;\">\n",
       "      <th></th>\n",
       "      <th>HumanIllness</th>\n",
       "      <th>HumanDeath</th>\n",
       "      <th>AnimalIllness</th>\n",
       "      <th>AnimalDeath</th>\n",
       "      <th>FemaleInfertility</th>\n",
       "      <th>MaleImpotence</th>\n",
       "      <th>AggravatingDisease</th>\n",
       "      <th>TransferringDisease</th>\n",
       "      <th>LayingOn</th>\n",
       "      <th>Removalbewitchment</th>\n",
       "      <th>Quarreling</th>\n",
       "      <th>Cursing</th>\n",
       "      <th>Poisoning</th>\n",
       "      <th>RecHealer</th>\n",
       "      <th>HealingHumans</th>\n",
       "      <th>HealingAnimals</th>\n",
       "      <th>Midwifery</th>\n",
       "      <th>PropertyDamage</th>\n",
       "      <th>WeatherModification</th>\n",
       "    </tr>\n",
       "  </thead>\n",
       "  <tbody>\n",
       "    <tr>\n",
       "      <th>HumanIllness</th>\n",
       "      <td>1</td>\n",
       "      <td>0.595745</td>\n",
       "      <td>0.276596</td>\n",
       "      <td>0.276596</td>\n",
       "      <td>0.00531915</td>\n",
       "      <td>0.0265957</td>\n",
       "      <td>0.0212766</td>\n",
       "      <td>0.143617</td>\n",
       "      <td>0.196809</td>\n",
       "      <td>0.0638298</td>\n",
       "      <td>0.484043</td>\n",
       "      <td>0.457447</td>\n",
       "      <td>0.0159574</td>\n",
       "      <td>0.101064</td>\n",
       "      <td>0.244681</td>\n",
       "      <td>0.0744681</td>\n",
       "      <td>0.0159574</td>\n",
       "      <td>0.367021</td>\n",
       "      <td>0.0531915</td>\n",
       "    </tr>\n",
       "    <tr>\n",
       "      <th>HumanDeath</th>\n",
       "      <td>0.509091</td>\n",
       "      <td>1</td>\n",
       "      <td>0.2</td>\n",
       "      <td>0.218182</td>\n",
       "      <td>0.00454545</td>\n",
       "      <td>0.0318182</td>\n",
       "      <td>0.0181818</td>\n",
       "      <td>0.118182</td>\n",
       "      <td>0.1</td>\n",
       "      <td>0.0409091</td>\n",
       "      <td>0.336364</td>\n",
       "      <td>0.318182</td>\n",
       "      <td>0.05</td>\n",
       "      <td>0.0681818</td>\n",
       "      <td>0.163636</td>\n",
       "      <td>0.0545455</td>\n",
       "      <td>0.0227273</td>\n",
       "      <td>0.327273</td>\n",
       "      <td>0.05</td>\n",
       "    </tr>\n",
       "    <tr>\n",
       "      <th>AnimalIllness</th>\n",
       "      <td>0.634146</td>\n",
       "      <td>0.536585</td>\n",
       "      <td>1</td>\n",
       "      <td>0.573171</td>\n",
       "      <td>0</td>\n",
       "      <td>0.0365854</td>\n",
       "      <td>0.0243902</td>\n",
       "      <td>0.256098</td>\n",
       "      <td>0.182927</td>\n",
       "      <td>0.0609756</td>\n",
       "      <td>0.54878</td>\n",
       "      <td>0.5</td>\n",
       "      <td>0.0121951</td>\n",
       "      <td>0.134146</td>\n",
       "      <td>0.292683</td>\n",
       "      <td>0.109756</td>\n",
       "      <td>0.0121951</td>\n",
       "      <td>0.670732</td>\n",
       "      <td>0.0853659</td>\n",
       "    </tr>\n",
       "    <tr>\n",
       "      <th>AnimalDeath</th>\n",
       "      <td>0.658228</td>\n",
       "      <td>0.607595</td>\n",
       "      <td>0.594937</td>\n",
       "      <td>1</td>\n",
       "      <td>0</td>\n",
       "      <td>0.0379747</td>\n",
       "      <td>0.0253165</td>\n",
       "      <td>0.291139</td>\n",
       "      <td>0.126582</td>\n",
       "      <td>0.0506329</td>\n",
       "      <td>0.607595</td>\n",
       "      <td>0.556962</td>\n",
       "      <td>0</td>\n",
       "      <td>0.113924</td>\n",
       "      <td>0.291139</td>\n",
       "      <td>0.126582</td>\n",
       "      <td>0.0253165</td>\n",
       "      <td>0.594937</td>\n",
       "      <td>0.0632911</td>\n",
       "    </tr>\n",
       "    <tr>\n",
       "      <th>FemaleInfertility</th>\n",
       "      <td>0.5</td>\n",
       "      <td>0.5</td>\n",
       "      <td>0</td>\n",
       "      <td>0</td>\n",
       "      <td>1</td>\n",
       "      <td>0.5</td>\n",
       "      <td>0</td>\n",
       "      <td>0</td>\n",
       "      <td>0</td>\n",
       "      <td>0.5</td>\n",
       "      <td>0.5</td>\n",
       "      <td>0.5</td>\n",
       "      <td>0</td>\n",
       "      <td>0</td>\n",
       "      <td>0</td>\n",
       "      <td>0</td>\n",
       "      <td>0.5</td>\n",
       "      <td>0</td>\n",
       "      <td>0</td>\n",
       "    </tr>\n",
       "  </tbody>\n",
       "</table>\n",
       "</div>"
      ],
      "text/plain": [
       "                  HumanIllness HumanDeath AnimalIllness AnimalDeath  \\\n",
       "HumanIllness                 1   0.595745      0.276596    0.276596   \n",
       "HumanDeath            0.509091          1           0.2    0.218182   \n",
       "AnimalIllness         0.634146   0.536585             1    0.573171   \n",
       "AnimalDeath           0.658228   0.607595      0.594937           1   \n",
       "FemaleInfertility          0.5        0.5             0           0   \n",
       "\n",
       "                  FemaleInfertility MaleImpotence AggravatingDisease  \\\n",
       "HumanIllness             0.00531915     0.0265957          0.0212766   \n",
       "HumanDeath               0.00454545     0.0318182          0.0181818   \n",
       "AnimalIllness                     0     0.0365854          0.0243902   \n",
       "AnimalDeath                       0     0.0379747          0.0253165   \n",
       "FemaleInfertility                 1           0.5                  0   \n",
       "\n",
       "                  TransferringDisease  LayingOn Removalbewitchment Quarreling  \\\n",
       "HumanIllness                 0.143617  0.196809          0.0638298   0.484043   \n",
       "HumanDeath                   0.118182       0.1          0.0409091   0.336364   \n",
       "AnimalIllness                0.256098  0.182927          0.0609756    0.54878   \n",
       "AnimalDeath                  0.291139  0.126582          0.0506329   0.607595   \n",
       "FemaleInfertility                   0         0                0.5        0.5   \n",
       "\n",
       "                    Cursing  Poisoning  RecHealer HealingHumans  \\\n",
       "HumanIllness       0.457447  0.0159574   0.101064      0.244681   \n",
       "HumanDeath         0.318182       0.05  0.0681818      0.163636   \n",
       "AnimalIllness           0.5  0.0121951   0.134146      0.292683   \n",
       "AnimalDeath        0.556962          0   0.113924      0.291139   \n",
       "FemaleInfertility       0.5          0          0             0   \n",
       "\n",
       "                  HealingAnimals  Midwifery PropertyDamage WeatherModification  \n",
       "HumanIllness           0.0744681  0.0159574       0.367021           0.0531915  \n",
       "HumanDeath             0.0545455  0.0227273       0.327273                0.05  \n",
       "AnimalIllness           0.109756  0.0121951       0.670732           0.0853659  \n",
       "AnimalDeath             0.126582  0.0253165       0.594937           0.0632911  \n",
       "FemaleInfertility              0        0.5              0                   0  "
      ]
     },
     "execution_count": 115,
     "metadata": {},
     "output_type": "execute_result"
    }
   ],
   "source": [
    "diseaseOrDamage_RF.head()"
   ]
  },
  {
   "cell_type": "code",
   "execution_count": 116,
   "metadata": {},
   "outputs": [
    {
     "data": {
      "image/png": "[encoded data removed]",
      "text/plain": [
       "<Figure size 432x288 with 2 Axes>"
      ]
     },
     "metadata": {
      "needs_background": "light"
     },
     "output_type": "display_data"
    }
   ],
   "source": [
    "# the seanborn.heatmap cannot handle none, so fill the none first.\n",
    "diseaseOrDamage_RF.fillna(value=np.nan, inplace=True)\n",
    "chart = sns.heatmap(diseaseOrDamage_RF, cmap=\"YlGnBu\")\n",
    "chart.set_title(\"Figure.8 Relative frequencies of each disease or damage\")\n",
    "plt.show()"
   ]
  },
  {
   "cell_type": "code",
   "execution_count": 117,
   "metadata": {},
   "outputs": [
    {
     "name": "stdout",
     "output_type": "stream",
     "text": [
      "The cases documenting \"HealingHumans\" are more likely to document:\n",
      "HumanIllness, RecHealer.\n"
     ]
    }
   ],
   "source": [
    "# change the topic here if you want to explore another theme\n",
    "# options: 'HumanIllness', 'HumanDeath', 'AnimalIllness', 'AnimalDeath',\n",
    "#        'FemaleInfertility', 'MaleImpotence', 'AggravatingDisease',\n",
    "#        'TransferringDisease', 'LayingOn', 'Removalbewitchment', 'Quarreling',\n",
    "#        'Cursing', 'Poisoning', 'RecHealer'(Accused was a Recognised healer), 'HealingHumans', 'HealingAnimals',\n",
    "#        'Midwifery', 'PropertyDamage', 'WeatherModification'\n",
    "topic = \"HealingHumans\"\n",
    "threshold = 0.35\n",
    "\n",
    "relatedTopics = diseaseOrDamage_RF.columns[diseaseOrDamage_RF.loc[topic] > threshold]\n",
    "print(\"The cases documenting \\\"\"+ topic + \"\\\" are more likely to document:\")\n",
    "string = \"\"\n",
    "for name in relatedTopics:\n",
    "    if(name != topic):\n",
    "        string += name + \", \"\n",
    "print(string[0:-2] + \".\")"
   ]
  },
  {
   "cell_type": "code",
   "execution_count": 118,
   "metadata": {},
   "outputs": [],
   "source": [
    "# wrap it to a function\n",
    "def explore_diseaseOrDamage(topic, threshold):\n",
    "    relatedTopics = diseaseOrDamage_RF.columns[diseaseOrDamage_RF.loc[topic] > threshold]\n",
    "    string = \"The cases documenting \\\"\"+ topic + \"\\\" are more likely to document: \"\n",
    "    for name in relatedTopics:\n",
    "        if(name != topic):\n",
    "            string += name + \", \"\n",
    "    string = string[0:-2] + \".\"\n",
    "    return(string)"
   ]
  },
  {
   "cell_type": "code",
   "execution_count": 161,
   "metadata": {},
   "outputs": [
    {
     "data": {
      "text/plain": [
       "'The cases documenting \"HumanIllness\" are more likely to document:HumanDeath, Quarreling, Cursing, PropertyDamage.'"
      ]
     },
     "execution_count": 161,
     "metadata": {},
     "output_type": "execute_result"
    }
   ],
   "source": [
    "explore_diseaseOrDamage(\"HumanIllness\", 0.35)"
   ]
  },
  {
   "cell_type": "markdown",
   "metadata": {},
   "source": [
    "\n",
    "The cases documenting `HumanIllness` are more likely to document `HumanDeath`, `Quarreling`, `Cursing` and `PropertyDamage`, which makes sense because all these characterisations refer to situations dealing with human. Imagine a conflict begin with a quarreling, leading to propertydamage, cursing and end with humanillness or humandeath.\n",
    "\n",
    "Note that values of the following deseases and damages are not reliable considering these cases are so few:"
   ]
  },
  {
   "cell_type": "code",
   "execution_count": 156,
   "metadata": {},
   "outputs": [
    {
     "data": {
      "text/plain": [
       "FemaleInfertility     2\n",
       "AggravatingDisease    5\n",
       "dtype: int64"
      ]
     },
     "execution_count": 156,
     "metadata": {},
     "output_type": "execute_result"
    }
   ],
   "source": [
    "DDNumbers = np.sum(diseaseOrDamage)\n",
    "DDNumbers[DDNumbers < 10]"
   ]
  }
 ],
 "metadata": {
  "kernelspec": {
   "display_name": "Python 3",
   "language": "python",
   "name": "python3"
  },
  "language_info": {
   "codemirror_mode": {
    "name": "ipython",
    "version": 3
   },
   "file_extension": ".py",
   "mimetype": "text/x-python",
   "name": "python",
   "nbconvert_exporter": "python",
   "pygments_lexer": "ipython3",
   "version": "3.7.0"
  }
 },
 "nbformat": 4,
 "nbformat_minor": 2
}
